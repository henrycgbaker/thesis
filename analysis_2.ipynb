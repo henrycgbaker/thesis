{
 "cells": [
  {
   "cell_type": "code",
   "execution_count": 3,
   "metadata": {},
   "outputs": [
    {
     "name": "stderr",
     "output_type": "stream",
     "text": [
      "ERROR:__main__:Input file 'results/text_generation_results.json' does not exist.\n"
     ]
    }
   ],
   "source": [
    "#!/usr/bin/env python3\n",
    "import sys\n",
    "import os\n",
    "from pathlib import Path\n",
    "import logging\n",
    "\n",
    "# Add the parent directory to sys.path so that 'experiment_core_utils' can be found.\n",
    "current_dir = Path.cwd()\n",
    "parent_dir = current_dir.parent\n",
    "sys.path.insert(0, str(parent_dir))\n",
    "\n",
    "# Configure logging.\n",
    "logging.basicConfig(level=logging.INFO)\n",
    "logger = logging.getLogger(__name__)\n",
    "\n",
    "# Import the conversion function from the parallel directory.\n",
    "from experiment_core_utils.l_results_csv_cleaning import process_json_to_csv\n",
    "\n",
    "# Define file paths.\n",
    "input_json = \"results/text_generation_results.json\"\n",
    "output_csv = \"results/text_generation_results_cleaned_2.csv\"\n",
    "\n",
    "# Check if the input JSON file exists.\n",
    "if not os.path.isfile(input_json):\n",
    "    logger.error(\"Input file '%s' does not exist.\", input_json)\n",
    "else:\n",
    "    process_json_to_csv(input_json, output_csv)\n"
   ]
  },
  {
   "cell_type": "code",
   "execution_count": null,
   "metadata": {},
   "outputs": [],
   "source": []
  }
 ],
 "metadata": {
  "kernelspec": {
   "display_name": "thesis",
   "language": "python",
   "name": "python3"
  },
  "language_info": {
   "codemirror_mode": {
    "name": "ipython",
    "version": 3
   },
   "file_extension": ".py",
   "mimetype": "text/x-python",
   "name": "python",
   "nbconvert_exporter": "python",
   "pygments_lexer": "ipython3",
   "version": "3.10.14"
  }
 },
 "nbformat": 4,
 "nbformat_minor": 2
}
