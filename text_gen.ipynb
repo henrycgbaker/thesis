{
 "cells": [
  {
   "cell_type": "code",
   "execution_count": null,
   "metadata": {},
   "outputs": [],
   "source": [
    "import time\n",
    "import torch\n",
    "from accelerate import Accelerator\n",
    "from transformers import AutoModelForCausalLM, AutoTokenizer\n",
    "from datasets import load_dataset\n",
    "from codecarbon import EmissionsTracker"
   ]
  },
  {
   "cell_type": "code",
   "execution_count": null,
   "metadata": {},
   "outputs": [],
   "source": [
    "# Load tokenizer and model\n",
    "\n",
    "def load_model_tokenizer(model_name)\n",
    "    tokenizer = AutoTokenizer.from_pretrained(model_name)\n",
    "    model = AutoModelForCausalLM.from_pretrained(model_name)\n",
    "    model.eval()"
   ]
  },
  {
   "cell_type": "code",
   "execution_count": null,
   "metadata": {},
   "outputs": [
    {
     "data": {
      "application/vnd.jupyter.widget-view+json": {
       "model_id": "1720bbff972e46daa5655ef27f8d3d5c",
       "version_major": 2,
       "version_minor": 0
      },
      "text/plain": [
       "pile_helm.py:   0%|          | 0.00/1.72k [00:00<?, ?B/s]"
      ]
     },
     "metadata": {},
     "output_type": "display_data"
    },
    {
     "data": {
      "application/vnd.jupyter.widget-view+json": {
       "model_id": "476a69f5eed441b28a99029e3abc8c31",
       "version_major": 2,
       "version_minor": 0
      },
      "text/plain": [
       "arxiv%2Ftest.jsonl:   0%|          | 0.00/13.0M [00:00<?, ?B/s]"
      ]
     },
     "metadata": {},
     "output_type": "display_data"
    },
    {
     "data": {
      "application/vnd.jupyter.widget-view+json": {
       "model_id": "20b0e42509b34ffd992cd914d31108a9",
       "version_major": 2,
       "version_minor": 0
      },
      "text/plain": [
       "Generating test split: 0 examples [00:00, ? examples/s]"
      ]
     },
     "metadata": {},
     "output_type": "display_data"
    }
   ],
   "source": []
  },
  {
   "cell_type": "code",
   "execution_count": null,
   "metadata": {},
   "outputs": [],
   "source": [
    "# prep distributed settings\n",
    "\n",
    "def prep_distrib_inf(model, tokenizer)\n",
    "    accelerator = Accelerator()\n",
    "    model, tokenizer = accelerator.prepare(model, tokenizer)\n",
    "\n"
   ]
  },
  {
   "cell_type": "code",
   "execution_count": null,
   "metadata": {},
   "outputs": [],
   "source": [
    "def run_inference(model_name, prompts, max_new_tokens=50):\n",
    "    \"\"\"\n",
    "    Runs inference for each prompt in `prompts` and returns:\n",
    "      - avg_latency_ms\n",
    "      - avg_ttft_ms\n",
    "      - throughput_qps\n",
    "      - total_generated_tokens\n",
    "    \"\"\"\n",
    "    # Initialize Accelerator\n",
    "    prep_distrib_inf()\n",
    "    \n",
    "    # Load model/tokenizer (CPU -> GPU in a moment)\n",
    "    load_model_tokenizer()\n",
    "    \n",
    "    # Prepare model (accelerate handles multi-GPU or single-GPU automatically)\n",
    "    model = accelerator.prepare(model)\n",
    "    model.eval()\n",
    "\n",
    "    latencies = []\n",
    "    total_tokens = 0\n",
    "    ttft_values = []\n",
    "\n",
    "    # We'll use the same device that accelerate has assigned.\n",
    "    device = accelerator.device\n",
    "\n",
    "    # Inference Loop\n",
    "    with torch.no_grad():\n",
    "        for prompt in prompts:\n",
    "            input_ids = tokenizer.encode(prompt, return_tensors=\"pt\").to(device)\n",
    "\n",
    "            # Time to first token measurement\n",
    "            start_ttft = time.perf_counter()\n",
    "            _ = model.generate(input_ids, max_new_tokens=1)\n",
    "            end_ttft = time.perf_counter()\n",
    "            ttft = (end_ttft - start_ttft) * 1000.0  # in milliseconds\n",
    "            ttft_values.append(ttft)\n",
    "\n",
    "            # Full generation latency measurement\n",
    "            start_time = time.perf_counter()\n",
    "            output = model.generate(\n",
    "                input_ids,\n",
    "                max_new_tokens=max_new_tokens,\n",
    "                do_sample=False\n",
    "            )\n",
    "            end_time = time.perf_counter()\n",
    "\n",
    "            # Calculate tokens generated\n",
    "            output_tokens = output.shape[1] - input_ids.shape[1]\n",
    "            total_tokens += output_tokens\n",
    "\n",
    "            # Latency (ms) for the entire generation\n",
    "            latencies.append((end_time - start_time) * 1000.0)\n",
    "\n",
    "    # Average latency in ms\n",
    "    avg_latency = sum(latencies) / len(latencies)\n",
    "    # Average time to first token in ms\n",
    "    avg_ttft = sum(ttft_values) / len(ttft_values)\n",
    "    # Total time in seconds\n",
    "    total_time = sum(latencies) / 1000.0\n",
    "    # Throughput in queries/sec\n",
    "    throughput = len(prompts) / total_time if total_time > 0 else 0\n",
    "\n",
    "    return {\n",
    "        \"avg_latency_ms\": avg_latency,\n",
    "        \"avg_ttft_ms\": avg_ttft,\n",
    "        \"throughput_qps\": throughput,\n",
    "        \"total_generated_tokens\": total_tokens\n",
    "    }\n",
    "\n",
    "# ---------------------------------------------------------------------------------\n",
    "# 4) Main Benchmark Cell\n",
    "# ---------------------------------------------------------------------------------\n",
    "def main():\n",
    "    # Replace with real subset of HLEM Pile or any other set of 100+ prompts\n",
    "    hlem_subset_prompts = [\n",
    "        \"Tell me a story about AI and humanity.\",\n",
    "        \"What is the capital of France?\",\n",
    "        # ... (add up to 100 prompts from the HLEM Pile subset) ...\n",
    "    ]\n",
    "    \n",
    "    # Example model name (adjust for your local or HF hub path)\n",
    "    llama2_model_name = \"meta-llama/Llama-2-7b-hf\"\n",
    "    \n",
    "    # Initialize CodeCarbon tracker\n",
    "    tracker = EmissionsTracker(\n",
    "        output_dir=\"codecarbon_logs\",\n",
    "        measure_power_secs=1  # how often to measure power\n",
    "    )\n",
    "    tracker.start()\n",
    "\n",
    "    # Run the inference function\n",
    "    metrics = run_llama2_inference(llama2_model_name, hlem_subset_prompts)\n",
    "    \n",
    "    # Stop the tracker\n",
    "    emissions_data = tracker.stop()\n",
    "    \n",
    "    # CodeCarbon returns energy_consumed in kWh\n",
    "    energy_kwh = emissions_data.energy_consumed\n",
    "    # Convert kWh to Joules: 1 kWh = 3.6e6 J\n",
    "    energy_joules = energy_kwh * 3.6e6\n",
    "\n",
    "    # Calculate tokens per joule\n",
    "    tokens_per_joule = 0\n",
    "    if energy_joules > 0:\n",
    "        tokens_per_joule = metrics[\"total_generated_tokens\"] / energy_joules\n",
    "    \n",
    "    # Print results\n",
    "    print(\"=== Benchmarking Results ===\")\n",
    "    print(f\"Total Runs: {metrics['num_runs']:}\")\n",
    "    print(f\"Total Inference Tim (sec): {metrics['total_time']:.2f}\")\n",
    "    print(f\"Average Latency (ms/sample): {metrics['avg_latency_ms']:.2f}\")\n",
    "    print(f\"Average TTFT (ms): {metrics['avg_ttft_ms']:.2f}\")\n",
    "    print(f\"Throughput (queries/sec): {metrics['throughput_qps']:.2f}\")\n",
    "    print(f\"Throughput (tokens/sec): {metrics['tokens_per_sec:.2f']}\")\n",
    "    print(f\"Total Tokens Generated: {metrics['total_generated_tokens']}\")\n",
    "    print(f\"Energy Consumed (kWh): {metrics['energy_kwh']:.6f}\")\n",
    "    print(f\"Energy Consumed (Joules): {metrics['energy_joules']:.2f}\")\n",
    "    print(f\"Energy Efficiency (tokens/joule): {metrics['tokens_per_joule']:.6f}\")"
   ]
  },
  {
   "cell_type": "markdown",
   "metadata": {},
   "source": [
    "# Implement"
   ]
  },
  {
   "cell_type": "code",
   "execution_count": null,
   "metadata": {},
   "outputs": [],
   "source": [
    "model_name = \"LLaMa3\"\n",
    "\n",
    "# load dataset\n",
    "\n",
    "ds = load_dataset(\"lighteval/pile_helm\", \"arxiv\")\n",
    "# for this experiment,  select 100 samples.\n",
    "dataset = dataset.select(range(100))"
   ]
  }
 ],
 "metadata": {
  "kernelspec": {
   "display_name": "thesis",
   "language": "python",
   "name": "python3"
  },
  "language_info": {
   "codemirror_mode": {
    "name": "ipython",
    "version": 3
   },
   "file_extension": ".py",
   "mimetype": "text/x-python",
   "name": "python",
   "nbconvert_exporter": "python",
   "pygments_lexer": "ipython3",
   "version": "3.10.14"
  }
 },
 "nbformat": 4,
 "nbformat_minor": 2
}
