{
 "cells": [
  {
   "cell_type": "code",
   "execution_count": 1,
   "id": "e873d585",
   "metadata": {},
   "outputs": [
    {
     "data": {
      "text/plain": [
       "58     proc_4\n",
       "68     proc_1\n",
       "72     proc_3\n",
       "100    proc_2\n",
       "206    proc_3\n",
       "276    proc_1\n",
       "285    proc_4\n",
       "287    proc_2\n",
       "Name: variables_config_name, dtype: object"
      ]
     },
     "execution_count": 1,
     "metadata": {},
     "output_type": "execute_result"
    }
   ],
   "source": [
    "import pandas as pd\n",
    "pd.set_option('display.max_columns', None)\n",
    "pd.set_option('display.max_rows', None)\n",
    "df = pd.read_csv('results/controlled_results.csv')\n",
    "\n",
    "df[df['variables_config_name'].str.startswith('proc')]['variables_config_name']\n"
   ]
  },
  {
   "cell_type": "code",
   "execution_count": null,
   "id": "2b14b8c5",
   "metadata": {},
   "outputs": [
    {
     "data": {
      "text/plain": [
       "58     num_processes_4\n",
       "68     num_processes_1\n",
       "72     num_processes_3\n",
       "100    num_processes_2\n",
       "206    num_processes_3\n",
       "276    num_processes_1\n",
       "285    num_processes_4\n",
       "287    num_processes_2\n",
       "Name: variables_config_name, dtype: object"
      ]
     },
     "execution_count": 3,
     "metadata": {},
     "output_type": "execute_result"
    }
   ],
   "source": [
    "df.loc[df['variables_config_name'].str.startswith('proc_'), 'variables_config_name'] = \\\n",
    "    df.loc[df['variables_config_name'].str.startswith('proc_'), 'variables_config_name'].str.replace('proc_', 'num_processes_', n=1)\n",
    "\n",
    "df[df['variables_config_name'].str.startswith('num_processes_')]['variables_config_name']\n"
   ]
  },
  {
   "cell_type": "code",
   "execution_count": 4,
   "id": "d5176516",
   "metadata": {},
   "outputs": [],
   "source": [
    "df.to_csv(\"results/controlled_results.csv\", index=False)\n"
   ]
  }
 ],
 "metadata": {
  "kernelspec": {
   "display_name": "thesis",
   "language": "python",
   "name": "python3"
  },
  "language_info": {
   "codemirror_mode": {
    "name": "ipython",
    "version": 3
   },
   "file_extension": ".py",
   "mimetype": "text/x-python",
   "name": "python",
   "nbconvert_exporter": "python",
   "pygments_lexer": "ipython3",
   "version": "3.10.14"
  }
 },
 "nbformat": 4,
 "nbformat_minor": 5
}
