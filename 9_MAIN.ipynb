{
 "cells": [
  {
   "cell_type": "code",
   "execution_count": 3,
   "metadata": {},
   "outputs": [],
   "source": [
    "import sys\n",
    "import os\n",
    "\n",
    "project_root = os.getcwd()  \n",
    "if project_root not in sys.path:\n",
    "    sys.path.append(project_root)\n",
    "    \n",
    "from classes.experiment_config import ExperimentConfig\n",
    "from classes.experiment_runner import ExperimentRunner\n",
    "\n",
    "import torch.multiprocessing as mp\n",
    "mp.set_start_method('spawn', force=True)\n",
    "\n",
    "from accelerate import notebook_launcher\n",
    "from datasets import load_dataset\n"
   ]
  },
  {
   "cell_type": "code",
   "execution_count": null,
   "metadata": {},
   "outputs": [
    {
     "name": "stdout",
     "output_type": "stream",
     "text": [
      "Launching training on 2 GPUs.\n",
      "TinyLlama/TinyLlama-1.1B-Chat-v1.0 loaded using backend pytorch with precision float16.\n",
      "TinyLlama/TinyLlama-1.1B-Chat-v1.0 loaded using backend pytorch with precision float16.\n"
     ]
    },
    {
     "name": "stderr",
     "output_type": "stream",
     "text": [
      "INFO:classes.experiment_runner:[Process 1160056] Model is on device: cuda:1\n",
      "INFO:classes.experiment_runner:[Process 1160055] Model is on device: cuda:0\n"
     ]
    },
    {
     "name": "stdout",
     "output_type": "stream",
     "text": [
      "Original generate method reassigned\n"
     ]
    },
    {
     "name": "stderr",
     "output_type": "stream",
     "text": [
      "INFO:classes.experiment_runner:[Process 1160056] Dummy forward pass complete.\n",
      "[codecarbon WARNING @ 18:31:39] Multiple instances of codecarbon are allowed to run at the same time.\n",
      "INFO:classes.experiment_runner:[Process 1160055] Dummy forward pass complete.\n"
     ]
    },
    {
     "name": "stdout",
     "output_type": "stream",
     "text": [
      "Allocated GPUs: GPU 0: NVIDIA A100-PCIE-40GB, GPU 1: NVIDIA A100-PCIE-40GB\n",
      "Prompts processed: 5 prompts. Longest prompt has 71508 characters.\n"
     ]
    },
    {
     "name": "stderr",
     "output_type": "stream",
     "text": [
      "[codecarbon WARNING @ 18:31:39] Multiple instances of codecarbon are allowed to run at the same time.\n"
     ]
    },
    {
     "name": "stdout",
     "output_type": "stream",
     "text": [
      "Energy tracking started\n",
      "pure_generative task type\n",
      "Fixed batching created 1 batches.\n"
     ]
    },
    {
     "name": "stderr",
     "output_type": "stream",
     "text": [
      "INFO:classes.experiment_runner:[Process 1160056] Inference complete.\n",
      "INFO:classes.experiment_runner:[Process 1160055] Inference complete.\n"
     ]
    },
    {
     "name": "stdout",
     "output_type": "stream",
     "text": [
      "Flops estimation was not finished successfully because of the following exception:\n",
      "<class 'RuntimeError'> : Expected tensor for argument #1 'indices' to have one of the following scalar types: Long, Int; but got torch.cuda.HalfTensor instead (while checking arguments for embedding)\n"
     ]
    },
    {
     "name": "stderr",
     "output_type": "stream",
     "text": [
      "Traceback (most recent call last):\n",
      "  File \"/home/228755@hertie-school.lan/thesis/thesis/lib/python3.10/site-packages/ptflops/pytorch_engine.py\", line 68, in get_flops_pytorch\n",
      "    _ = flops_model(batch)\n",
      "  File \"/home/228755@hertie-school.lan/thesis/thesis/lib/python3.10/site-packages/torch/nn/modules/module.py\", line 1518, in _wrapped_call_impl\n",
      "    return self._call_impl(*args, **kwargs)\n",
      "  File \"/home/228755@hertie-school.lan/thesis/thesis/lib/python3.10/site-packages/torch/nn/modules/module.py\", line 1568, in _call_impl\n",
      "    result = forward_call(*args, **kwargs)\n",
      "  File \"/home/228755@hertie-school.lan/thesis/thesis/lib/python3.10/site-packages/torch/nn/parallel/distributed.py\", line 1519, in forward\n",
      "    else self._run_ddp_forward(*inputs, **kwargs)\n",
      "  File \"/home/228755@hertie-school.lan/thesis/thesis/lib/python3.10/site-packages/torch/nn/parallel/distributed.py\", line 1355, in _run_ddp_forward\n",
      "    return self.module(*inputs, **kwargs)  # type: ignore[index]\n",
      "  File \"/home/228755@hertie-school.lan/thesis/thesis/lib/python3.10/site-packages/torch/nn/modules/module.py\", line 1518, in _wrapped_call_impl\n",
      "    return self._call_impl(*args, **kwargs)\n",
      "  File \"/home/228755@hertie-school.lan/thesis/thesis/lib/python3.10/site-packages/torch/nn/modules/module.py\", line 1527, in _call_impl\n",
      "    return forward_call(*args, **kwargs)\n",
      "  File \"/home/228755@hertie-school.lan/thesis/thesis/lib/python3.10/site-packages/transformers/utils/deprecation.py\", line 172, in wrapped_func\n",
      "    return func(*args, **kwargs)\n",
      "  File \"/home/228755@hertie-school.lan/thesis/thesis/lib/python3.10/site-packages/transformers/models/llama/modeling_llama.py\", line 842, in forward\n",
      "    outputs = self.model(\n",
      "  File \"/home/228755@hertie-school.lan/thesis/thesis/lib/python3.10/site-packages/torch/nn/modules/module.py\", line 1518, in _wrapped_call_impl\n",
      "    return self._call_impl(*args, **kwargs)\n",
      "  File \"/home/228755@hertie-school.lan/thesis/thesis/lib/python3.10/site-packages/torch/nn/modules/module.py\", line 1527, in _call_impl\n",
      "    return forward_call(*args, **kwargs)\n",
      "  File \"/home/228755@hertie-school.lan/thesis/thesis/lib/python3.10/site-packages/transformers/models/llama/modeling_llama.py\", line 550, in forward\n",
      "    inputs_embeds = self.embed_tokens(input_ids)\n",
      "  File \"/home/228755@hertie-school.lan/thesis/thesis/lib/python3.10/site-packages/torch/nn/modules/module.py\", line 1518, in _wrapped_call_impl\n",
      "    return self._call_impl(*args, **kwargs)\n",
      "  File \"/home/228755@hertie-school.lan/thesis/thesis/lib/python3.10/site-packages/torch/nn/modules/module.py\", line 1527, in _call_impl\n",
      "    return forward_call(*args, **kwargs)\n",
      "  File \"/home/228755@hertie-school.lan/thesis/thesis/lib/python3.10/site-packages/torch/nn/modules/sparse.py\", line 162, in forward\n",
      "    return F.embedding(\n",
      "  File \"/home/228755@hertie-school.lan/thesis/thesis/lib/python3.10/site-packages/torch/nn/functional.py\", line 2233, in embedding\n",
      "    return torch.embedding(weight, input, padding_idx, scale_grad_by_freq, sparse)\n",
      "RuntimeError: Expected tensor for argument #1 'indices' to have one of the following scalar types: Long, Int; but got torch.cuda.HalfTensor instead (while checking arguments for embedding)\n",
      "WARNING:_8_get_compute_info:ptflops returned None for model complexity. Unable to compute FLOPs.\n"
     ]
    },
    {
     "name": "stdout",
     "output_type": "stream",
     "text": [
      "Energy tracking stopped\n",
      "Flops estimation was not finished successfully because of the following exception:\n",
      "<class 'RuntimeError'> : Expected tensor for argument #1 'indices' to have one of the following scalar types: Long, Int; but got torch.cuda.HalfTensor instead (while checking arguments for embedding)\n"
     ]
    },
    {
     "name": "stderr",
     "output_type": "stream",
     "text": [
      "Traceback (most recent call last):\n",
      "  File \"/home/228755@hertie-school.lan/thesis/thesis/lib/python3.10/site-packages/ptflops/pytorch_engine.py\", line 68, in get_flops_pytorch\n",
      "    _ = flops_model(batch)\n",
      "  File \"/home/228755@hertie-school.lan/thesis/thesis/lib/python3.10/site-packages/torch/nn/modules/module.py\", line 1518, in _wrapped_call_impl\n",
      "    return self._call_impl(*args, **kwargs)\n",
      "  File \"/home/228755@hertie-school.lan/thesis/thesis/lib/python3.10/site-packages/torch/nn/modules/module.py\", line 1568, in _call_impl\n",
      "    result = forward_call(*args, **kwargs)\n",
      "  File \"/home/228755@hertie-school.lan/thesis/thesis/lib/python3.10/site-packages/torch/nn/parallel/distributed.py\", line 1519, in forward\n",
      "    else self._run_ddp_forward(*inputs, **kwargs)\n",
      "  File \"/home/228755@hertie-school.lan/thesis/thesis/lib/python3.10/site-packages/torch/nn/parallel/distributed.py\", line 1355, in _run_ddp_forward\n",
      "    return self.module(*inputs, **kwargs)  # type: ignore[index]\n",
      "  File \"/home/228755@hertie-school.lan/thesis/thesis/lib/python3.10/site-packages/torch/nn/modules/module.py\", line 1518, in _wrapped_call_impl\n",
      "    return self._call_impl(*args, **kwargs)\n",
      "  File \"/home/228755@hertie-school.lan/thesis/thesis/lib/python3.10/site-packages/torch/nn/modules/module.py\", line 1527, in _call_impl\n",
      "    return forward_call(*args, **kwargs)\n",
      "  File \"/home/228755@hertie-school.lan/thesis/thesis/lib/python3.10/site-packages/transformers/utils/deprecation.py\", line 172, in wrapped_func\n",
      "    return func(*args, **kwargs)\n",
      "  File \"/home/228755@hertie-school.lan/thesis/thesis/lib/python3.10/site-packages/transformers/models/llama/modeling_llama.py\", line 842, in forward\n",
      "    outputs = self.model(\n",
      "  File \"/home/228755@hertie-school.lan/thesis/thesis/lib/python3.10/site-packages/torch/nn/modules/module.py\", line 1518, in _wrapped_call_impl\n",
      "    return self._call_impl(*args, **kwargs)\n",
      "  File \"/home/228755@hertie-school.lan/thesis/thesis/lib/python3.10/site-packages/torch/nn/modules/module.py\", line 1527, in _call_impl\n",
      "    return forward_call(*args, **kwargs)\n",
      "  File \"/home/228755@hertie-school.lan/thesis/thesis/lib/python3.10/site-packages/transformers/models/llama/modeling_llama.py\", line 550, in forward\n",
      "    inputs_embeds = self.embed_tokens(input_ids)\n",
      "  File \"/home/228755@hertie-school.lan/thesis/thesis/lib/python3.10/site-packages/torch/nn/modules/module.py\", line 1518, in _wrapped_call_impl\n",
      "    return self._call_impl(*args, **kwargs)\n",
      "  File \"/home/228755@hertie-school.lan/thesis/thesis/lib/python3.10/site-packages/torch/nn/modules/module.py\", line 1527, in _call_impl\n",
      "    return forward_call(*args, **kwargs)\n",
      "  File \"/home/228755@hertie-school.lan/thesis/thesis/lib/python3.10/site-packages/torch/nn/modules/sparse.py\", line 162, in forward\n",
      "    return F.embedding(\n",
      "  File \"/home/228755@hertie-school.lan/thesis/thesis/lib/python3.10/site-packages/torch/nn/functional.py\", line 2233, in embedding\n",
      "    return torch.embedding(weight, input, padding_idx, scale_grad_by_freq, sparse)\n",
      "RuntimeError: Expected tensor for argument #1 'indices' to have one of the following scalar types: Long, Int; but got torch.cuda.HalfTensor instead (while checking arguments for embedding)\n",
      "WARNING:_8_get_compute_info:ptflops returned None for model complexity. Unable to compute FLOPs.\n",
      "INFO:classes.experiment_runner:[Process 1160055] Gathering results from 2 processes.\n",
      "INFO:classes.experiment_runner:[Process 1160056] Gathering results from 2 processes.\n",
      "INFO:classes.experiment_runner:Benchmark results saved to benchmark_results/text_generation_results.json\n",
      "INFO:classes.experiment_runner:Benchmark results saved to benchmark_results/text_generation_results.json\n",
      "[2025-03-21 18:31:46,892] torch.distributed.elastic.multiprocessing.api: [WARNING] Closing process 1160056 via signal SIGTERM\n"
     ]
    }
   ],
   "source": [
    "experiment_config = ExperimentConfig(\n",
    "    model_name=\"TinyLlama/TinyLlama-1.1B-Chat-v1.0\",\n",
    "    is_encoder_decoder=\"decoder_only\",\n",
    "    task_type=\"text_generation\",\n",
    "    inference_type=\"pure_generative\",  # must match your ExperimentRunner expectations\n",
    "    max_input_tokens=512,\n",
    "    max_output_tokens=50,\n",
    "    num_input_prompts=5,\n",
    "    gpu_list=[0, 1],\n",
    "    num_processes=2,\n",
    "    batching_options={\n",
    "        \"fixed_max_batch_size\": 1, # this is max batch size if adaptive batching on; fixed batch size if it's off\n",
    "        \"adaptive_batching\": False,\n",
    "        \"adaptive_max_tokens\": 256  \n",
    "    },\n",
    "    sharding_config={\n",
    "        \"fsdp_config\": {\n",
    "            \"use_orig_params\": True,\n",
    "            \"cpu_offload\": True\n",
    "        },\n",
    "        \"sharding_strategy\": \"NO_SHARD\"\n",
    "    },\n",
    "    query_rate=1,\n",
    "    decoder_temperature=1,\n",
    "    fp_precision=\"float16\",\n",
    "    backend=\"pytorch\"\n",
    ")\n",
    "\n",
    "# Load prompts (here, using the 'arxiv' split from the lighteval/pile_helm dataset)\n",
    "ds = load_dataset(\"lighteval/pile_helm\", \"arxiv\")[\"test\"]\n",
    "prompts = [sample[\"text\"] for sample in ds]\n",
    "\n",
    "# Define a function to run the experiment.\n",
    "def run_experiment():\n",
    "    runner = ExperimentRunner(experiment_config, prompts)\n",
    "    runner.run_torch()\n",
    "\n",
    "# Launch the experiment across the specified number of processes.\n",
    "notebook_launcher(run_experiment, num_processes=experiment_config.num_processes)"
   ]
  }
 ],
 "metadata": {
  "kernelspec": {
   "display_name": "thesis",
   "language": "python",
   "name": "python3"
  },
  "language_info": {
   "codemirror_mode": {
    "name": "ipython",
    "version": 3
   },
   "file_extension": ".py",
   "mimetype": "text/x-python",
   "name": "python",
   "nbconvert_exporter": "python",
   "pygments_lexer": "ipython3",
   "version": "3.10.14"
  }
 },
 "nbformat": 4,
 "nbformat_minor": 2
}
