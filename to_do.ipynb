{
 "cells": [
  {
   "cell_type": "markdown",
   "metadata": {},
   "source": [
    "# Next\n",
    "- [ ] change codeCarbon log_level to warning \n",
    "- [ ] Code Carbon turn off multiple runs in allow_multiple_runs\n",
    "- [ ] try CodeCarbon's save_to_logger \n",
    "- [ ] set up AMD CPU logic (currently only INTEL)\n",
    "- [ ] sort out CPU usage\n",
    "- [ ] the compute metrics don't make sense  \n",
    "    - remove cpu vendor \n",
    "    - remove cuda \n",
    "    - sort out memory allocation metrics\n",
    "- refactor: (i) helper functions; (ii) Object oriented\n",
    "\n",
    "## metrics:\n",
    "- [ ] work out what the GPU and CPU power metrics coming out of CodeCarbon are referring to (avg power draw?)\n",
    "- [ ] GPU & CPU power = 'avg across processors' <- add this in (ram power constant)\n",
    "- [ ] GPU & CPU energy = sum across processort\n",
    "- [ ] NB the RAM energy seems to be wrong (I am summing, but RAM is shared ????)\n",
    "    - NB THIS IS A MAJOR POINT: CODE CARBON GETS IT WRON BY THE PROCESS BY NOT CONSIDERING SHARED RESOURCES...??? \n",
    "- [ ] check why the CodeCarbon CSV metrics and the JSON metrics don't align - because they are per process -> allows me to validate (also check that CodeCarbon don't offer their own aggregation)\n",
    "    - code carbon can do by machine or by process!!!\n",
    "        - parameter: tracking_mode -> machine measure the power consumptions of the entire machine (defaults) / process try and isolate the tracked processes in isolation\n",
    "    \n",
    "- [ ] if staying on Hertie server: build in AMD tracking tools for the CPU (currently it can't measure it using Code Carbon)\n",
    "- [ ] log metrics both at (1) the individual per prompt, (2) the per-batch level, and (3) the experiment level (e.g. number of input/output tokens, energy etc etc)\n",
    "- [ ] add Carbon Tracker\n",
    "\n",
    "# Low priority\n",
    "- [ ] add logic for task-specific metrics in the reporting\n",
    "- [ ] how is GPU / CPU power calculated by CodeCarbon?\n",
    "- [ ] sort out the print statements in experiments to supress (i) the code carbon output, (ii) the final JSON print"
   ]
  },
  {
   "cell_type": "markdown",
   "metadata": {},
   "source": [
    "# Blockers\n",
    "\n",
    "- [ ] vLLM -> CUDA runs out of memory\n",
    "- [ ] Optimum benchmarking library -> CUDA runs out of memory"
   ]
  },
  {
   "cell_type": "markdown",
   "metadata": {},
   "source": [
    "# Done\n",
    "- [x] calculate computation metrics\n",
    "- [x] put the text_gen_inference() into the helper functionn (as it is pretty generic)\n",
    "- [x] us Optimum library \n",
    "- [x] sort out distributed inference using accelerate / vLLM. At the moment it's not working on either\n",
    "- [x] aggregate process metrics \n",
    "    - once it goes to multi-GPU it gets weird - i think this is why half the runs don't work, the other half do\n",
    "    - including assinging the unique ID\n",
    "    - decide which metrics to sum, which to avg\n"
   ]
  }
 ],
 "metadata": {
  "kernelspec": {
   "display_name": "thesis",
   "language": "python",
   "name": "python3"
  },
  "language_info": {
   "codemirror_mode": {
    "name": "ipython",
    "version": 3
   },
   "file_extension": ".py",
   "mimetype": "text/x-python",
   "name": "python",
   "nbconvert_exporter": "python",
   "pygments_lexer": "ipython3",
   "version": "3.10.14"
  }
 },
 "nbformat": 4,
 "nbformat_minor": 2
}
