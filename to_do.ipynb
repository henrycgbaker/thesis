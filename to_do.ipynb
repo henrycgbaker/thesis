{
 "cells": [
  {
   "cell_type": "markdown",
   "metadata": {},
   "source": [
    "# Next\n",
    "\n",
    "- [ ] aggregate process metrics \n",
    "    - once it goes to multi-GPU it gets weird - i think this is why half the runs don't work, the other half do\n",
    "    - including assinging the unique ID\n",
    "    - decide which metrics to sum, which to avg\n",
    "\n",
    "- [ ] log metrics both at (1) the individual per prompt, (2) the per-batch level, and (3) the experiment level (e.g. number of input/output tokens, energy etc etc)\n",
    "- [ ] add Carbon Tracker\n",
    "\n",
    "# Low priority\n",
    "- [ ] add logic for task-specific metrics in the reporting\n",
    "- [ ] how is GPU / CPU power calculated by CodeCarbon?\n",
    "- [ ] sort out the print statements in experiments to supress (i) the code carbon output, (ii) the final JSON print"
   ]
  },
  {
   "cell_type": "markdown",
   "metadata": {},
   "source": [
    "# Blockers\n",
    "\n",
    "- [ ] vLLM -> CUDA runs out of memory\n",
    "- [ ] Optimum benchmarking library -> CUDA runs out of memory"
   ]
  },
  {
   "cell_type": "markdown",
   "metadata": {},
   "source": [
    "# Done\n",
    "- [x] calculate computation metrics\n",
    "- [x] put the text_gen_inference() into the helper functionn (as it is pretty generic)\n",
    "- [x] us Optimum library \n",
    "- [x] sort out distributed inference using accelerate / vLLM. At the moment it's not working on either\n"
   ]
  },
  {
   "cell_type": "markdown",
   "metadata": {},
   "source": [
    "1) need to not count each run (4*5 = 20, when there's just 5)\n",
    "2) need to append and not overwrite"
   ]
  },
  {
   "cell_type": "code",
   "execution_count": 1,
   "metadata": {},
   "outputs": [
    {
     "name": "stdout",
     "output_type": "stream",
     "text": [
      "March 04, 2025 at 06:34:54 PM\n"
     ]
    }
   ],
   "source": [
    "from datetime import datetime\n",
    "\n",
    "current_time = datetime.now().strftime(\"%B %d, %Y at %I:%M:%S %p\")\n",
    "print(current_time)\n"
   ]
  }
 ],
 "metadata": {
  "kernelspec": {
   "display_name": "thesis",
   "language": "python",
   "name": "python3"
  },
  "language_info": {
   "codemirror_mode": {
    "name": "ipython",
    "version": 3
   },
   "file_extension": ".py",
   "mimetype": "text/x-python",
   "name": "python",
   "nbconvert_exporter": "python",
   "pygments_lexer": "ipython3",
   "version": "3.10.14"
  }
 },
 "nbformat": 4,
 "nbformat_minor": 2
}
