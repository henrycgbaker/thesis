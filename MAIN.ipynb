{
 "cells": [
  {
   "cell_type": "code",
   "execution_count": 7,
   "metadata": {},
   "outputs": [],
   "source": [
    "import sys\n",
    "import os\n",
    "from accelerate import notebook_launcher\n",
    "from datasets import load_dataset\n",
    "import logging\n",
    "\n",
    "# Configure logging:\n",
    "# (i) lear any pre-existing logging handlers (especially useful in notebook reruns)\n",
    "for handler in logging.root.handlers[:]:\n",
    "    logging.root.removeHandler(handler)\n",
    "# (ii) now safely configure logging\n",
    "logging.getLogger(\"codecarbon\").setLevel(logging.ERROR)\n",
    "logging.basicConfig(level=logging.INFO)\n",
    "\n",
    "# Adjust paths -> import classes\n",
    "project_root = os.getcwd()  \n",
    "if project_root not in sys.path:\n",
    "    sys.path.append(project_root)\n",
    "from classes.experiment_config import ExperimentConfig\n",
    "from classes.experiment_runner import ExperimentRunner\n",
    "\n",
    "#import torch.multiprocessing as mp\n",
    "#mp.set_start_method('spawn', force=True)\n"
   ]
  },
  {
   "cell_type": "code",
   "execution_count": 20,
   "metadata": {},
   "outputs": [
    {
     "name": "stdout",
     "output_type": "stream",
     "text": [
      "Launching training on one GPU.\n",
      "Accelerator set up\n",
      "Unique experiment id: 0109\n",
      "TinyLlama/TinyLlama-1.1B-Chat-v1.0 loaded using pytorch, with precision float32\n",
      "Original generate method saved.\n"
     ]
    },
    {
     "name": "stderr",
     "output_type": "stream",
     "text": [
      "INFO:classes.experiment_runner:[Process 1512581] Model is on device: cuda\n",
      "INFO:classes.experiment_runner:[Process 1512581] Dummy forward pass complete\n"
     ]
    },
    {
     "name": "stdout",
     "output_type": "stream",
     "text": [
      "Model and tokenizer prepared\n",
      "Original generate method reassigned\n",
      "Prompts processed: 5 prompts.\n",
      "Energy tracking started\n",
      "Task type: pure_generative\n",
      "Using fixed batching (non-adaptive): created 3 batches.\n"
     ]
    },
    {
     "name": "stderr",
     "output_type": "stream",
     "text": [
      "INFO:classes.experiment_runner:[Process 1512581] Inference complete\n"
     ]
    },
    {
     "name": "stdout",
     "output_type": "stream",
     "text": [
      "Energy tracking stopped\n"
     ]
    },
    {
     "name": "stderr",
     "output_type": "stream",
     "text": [
      "WARNING:_9_get_compute_info:FLOPs computation returned None for sample 0. Skipping this sample.\n",
      "WARNING:_9_get_compute_info:FLOPs computation returned None for sample 1. Skipping this sample.\n",
      "WARNING:_9_get_compute_info:FLOPs computation returned None for sample 2. Skipping this sample.\n",
      "WARNING:_9_get_compute_info:FLOPs computation returned None for sample 3. Skipping this sample.\n",
      "WARNING:_9_get_compute_info:FLOPs computation returned None for sample 4. Skipping this sample.\n",
      "INFO:classes.experiment_runner:Main process saved inference and computation metrics.\n",
      "INFO:classes.experiment_runner:Process 0 saved its energy metrics.\n"
     ]
    },
    {
     "name": "stdout",
     "output_type": "stream",
     "text": [
      "Experiment-wide inference and compute metrics saved\n",
      "All local process energy metrics saved\n",
      "Experiment finished\n"
     ]
    }
   ],
   "source": [
    "\n",
    "experiment_config = ExperimentConfig(\n",
    "    model_name=\"TinyLlama/TinyLlama-1.1B-Chat-v1.0\",\n",
    "    is_encoder_decoder=\"decoder_only\",\n",
    "    task_type=\"text_generation\",\n",
    "    inference_type=\"pure_generative\",  \n",
    "    max_input_tokens=512,\n",
    "    max_output_tokens=50,\n",
    "    num_input_prompts=5,\n",
    "    gpu_list=[0,1,2,3],\n",
    "    num_processes=1,\n",
    "    batching_options={\n",
    "        \"fixed_max_batch_size\": 2, # this is max batch size if adaptive batching on; fixed batch size if it's off\n",
    "        \"adaptive_batching\": False,\n",
    "        \"adaptive_max_tokens\": 512  \n",
    "    },\n",
    "    sharding_config={\n",
    "        \"fsdp_config\": {\n",
    "            \"use_orig_params\": True,\n",
    "            \"cpu_offload\": True\n",
    "        },\n",
    "        \"sharding_strategy\": \"NO_SHARD\"\n",
    "    },\n",
    "    query_rate=1,\n",
    "    decoder_temperature=1.0, # NB: needs to be a float\n",
    "    fp_precision=\"float32\",\n",
    "    backend=\"pytorch\"\n",
    ")\n",
    "\n",
    "# Load prompts (here, using the 'arxiv' split from the lighteval/pile_helm dataset)\n",
    "ds = load_dataset(\"lighteval/pile_helm\", \"arxiv\")[\"test\"]\n",
    "prompts = [sample[\"text\"] for sample in ds]\n",
    "\n",
    "# Define a function to run the experiment.\n",
    "def run_experiment():\n",
    "    runner = ExperimentRunner(experiment_config, prompts)\n",
    "    runner.run_torch()\n",
    "\n",
    "# Launch the experiment across the specified number of processes.\n",
    "notebook_launcher(run_experiment,\n",
    "                    num_processes=experiment_config.num_processes) \n",
    "                    #terminate_on_error=True) # USE THIS IN accelerate.launch.launch()\n",
    "                      \n",
    "                      \n",
    "    "
   ]
  }
 ],
 "metadata": {
  "kernelspec": {
   "display_name": "thesis",
   "language": "python",
   "name": "python3"
  },
  "language_info": {
   "codemirror_mode": {
    "name": "ipython",
    "version": 3
   },
   "file_extension": ".py",
   "mimetype": "text/x-python",
   "name": "python",
   "nbconvert_exporter": "python",
   "pygments_lexer": "ipython3",
   "version": "3.10.14"
  }
 },
 "nbformat": 4,
 "nbformat_minor": 2
}
