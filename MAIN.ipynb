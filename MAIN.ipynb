{
 "cells": [
  {
   "cell_type": "code",
   "execution_count": 1,
   "metadata": {},
   "outputs": [],
   "source": [
    "import sys\n",
    "import os\n",
    "from accelerate import notebook_launcher\n",
    "from datasets import load_dataset\n",
    "import logging\n",
    "\n",
    "# Configure logging:\n",
    "# (i) lear any pre-existing logging handlers (especially useful in notebook reruns)\n",
    "for handler in logging.root.handlers[:]:\n",
    "    logging.root.removeHandler(handler)\n",
    "# (ii) now safely configure logging\n",
    "logging.getLogger(\"codecarbon\").setLevel(logging.ERROR)\n",
    "logging.basicConfig(level=logging.INFO)\n",
    "\n",
    "# Adjust paths -> import classes\n",
    "project_root = os.getcwd()  \n",
    "if project_root not in sys.path:\n",
    "    sys.path.append(project_root)\n",
    "    \n",
    "from classes.experiment_config import ExperimentConfig\n",
    "from classes.experiment_runner import ExperimentRunner\n",
    "\n",
    "#import torch.multiprocessing as mp\n",
    "#mp.set_start_method('spawn', force=True)"
   ]
  },
  {
   "cell_type": "code",
   "execution_count": 2,
   "metadata": {},
   "outputs": [
    {
     "name": "stdout",
     "output_type": "stream",
     "text": [
      "Launching training on 4 GPUs.\n",
      "Accelerator set up\n",
      "Unique experiment id: 0219\n"
     ]
    },
    {
     "name": "stderr",
     "output_type": "stream",
     "text": [
      "`low_cpu_mem_usage` was None, now default to True since model is quantized.\n"
     ]
    },
    {
     "name": "stdout",
     "output_type": "stream",
     "text": [
      "TinyLlama/TinyLlama-1.1B-Chat-v1.0 loaded using pytorch, with precision float16\n",
      "Original generate method saved.\n"
     ]
    },
    {
     "name": "stderr",
     "output_type": "stream",
     "text": [
      "`low_cpu_mem_usage` was None, now default to True since model is quantized.\n",
      "`low_cpu_mem_usage` was None, now default to True since model is quantized.\n",
      "`low_cpu_mem_usage` was None, now default to True since model is quantized.\n"
     ]
    },
    {
     "name": "stdout",
     "output_type": "stream",
     "text": [
      "Model and tokenizer prepared\n",
      "Entering wait barrier: after model preparation\n",
      "wait_for_everyone completed within 10 seconds for after model preparation."
     ]
    },
    {
     "name": "stderr",
     "output_type": "stream",
     "text": [
      "INFO:classes.experiment_runner:[Process 2739986] Model is on device: cuda:2\n",
      "INFO:classes.experiment_runner:[Process 2739987] Model is on device: cuda:3\n",
      "INFO:classes.experiment_runner:[Process 2739985] Model is on device: cuda:1\n"
     ]
    },
    {
     "name": "stdout",
     "output_type": "stream",
     "text": [
      "\n",
      "Exiting wait barrier: after model preparation\n"
     ]
    },
    {
     "name": "stderr",
     "output_type": "stream",
     "text": [
      "INFO:classes.experiment_runner:[Process 2739984] Model is on device: cuda:0\n"
     ]
    },
    {
     "name": "stdout",
     "output_type": "stream",
     "text": [
      "Entering wait barrier: after logging device info\n",
      "wait_for_everyone completed within 10 seconds for after logging device info.\n",
      "Exiting wait barrier: after logging device info\n",
      "Original generate method reassigned\n"
     ]
    },
    {
     "name": "stderr",
     "output_type": "stream",
     "text": [
      "INFO:classes.experiment_runner:[Process 2739986] Dummy forward pass complete\n",
      "INFO:classes.experiment_runner:[Process 2739987] Dummy forward pass complete\n",
      "INFO:classes.experiment_runner:[Process 2739985] Dummy forward pass complete\n",
      "INFO:classes.experiment_runner:[Process 2739984] Dummy forward pass complete\n"
     ]
    },
    {
     "name": "stdout",
     "output_type": "stream",
     "text": [
      "Entering wait barrier: after dummy forward pass\n",
      "wait_for_everyone completed within 10 seconds for after dummy forward pass.\n",
      "Exiting wait barrier: after dummy forward pass\n",
      "Prompts processed: 10 prompts.\n",
      "Energy tracking started\n",
      "Task type: pure_generative\n",
      "Using fixed batching (non-adaptive): created 1 batches.\n"
     ]
    },
    {
     "name": "stderr",
     "output_type": "stream",
     "text": [
      "INFO:_6_run_inference_by_task:[Process 2739986][GPU 2] — Completed tokenisation of batch 1/1\n",
      "INFO:_6_run_inference_by_task:[Process 2739985][GPU 1] — Completed tokenisation of batch 1/1\n",
      "INFO:_6_run_inference_by_task:[Process 2739987][GPU 3] — Completed tokenisation of batch 1/1\n",
      "INFO:_6_run_inference_by_task:[Process 2739984][GPU 0] — Completed tokenisation of batch 1/1\n",
      "INFO:_6_run_inference_by_task:[Process 2739986][GPU 2] — Completed batch inference 1/1\n",
      "INFO:classes.experiment_runner:[Process 2739986][GPU 2]: Inference complete\n",
      "INFO:_6_run_inference_by_task:[Process 2739987][GPU 3] — Completed batch inference 1/1\n",
      "INFO:classes.experiment_runner:[Process 2739987][GPU 3]: Inference complete\n",
      "INFO:_6_run_inference_by_task:[Process 2739984][GPU 0] — Completed batch inference 1/1\n",
      "INFO:classes.experiment_runner:[Process 2739984][GPU 0]: Inference complete\n"
     ]
    },
    {
     "name": "stdout",
     "output_type": "stream",
     "text": [
      "Decoded token outputs successfully.\n",
      "Energy tracking stopped\n",
      "Entering wait barrier: after energy tracking stop\n",
      "[DEBUG] Enter combine_energy_metrics: Process ID: 2739986, Local process index: 2\n",
      "[DEBUG] Energy consumed: 0.0019106426364148658 kWh, which equals 6878.313491093517 joules.\n",
      "[DEBUG] Exiting combine_energy_metrics with result: {'process_id': 2739986, 'local_process_index': 2, 'energy_results': {'cpu_power': 112.5, 'gpu_power': 398.44540267992323, 'ram_power': 3.8470258712768555, 'cpu_energy': 0.0002927721987543919, 'gpu_energy': 0.0016099710101995512, 'ram_energy': 7.899427460922904e-06, 'total_energy_kwh': 0.0019106426364148658, 'total_energy_joules': 6878.313491093517, 'final_emissions': 0.0007278593123422432}}\n"
     ]
    },
    {
     "name": "stderr",
     "output_type": "stream",
     "text": [
      "INFO:classes.experiment_runner:Process 2: Energy metrics combined successfully.\n",
      "INFO:classes.experiment_runner:[Process 2739986][GPU 2] saved its energy metrics.\n"
     ]
    },
    {
     "name": "stdout",
     "output_type": "stream",
     "text": [
      "wait_for_everyone completed within 10 seconds for after energy tracking stop.\n",
      "Exiting wait barrier: after energy tracking stop\n",
      "Saved outputs\n",
      "[DEBUG] Enter get_experiment_setup: Experiment ID: 0219\n",
      "[DEBUG] Exiting get_experiment_setup with result: {'experiment_id': '0219', 'date_time': 'March 25, 2025 at 09:23:00 PM', 'model': 'TinyLlama/TinyLlama-1.1B-Chat-v1.0', 'is_encoder_decoder': False, 'task_type': 'text_generation', 'available_gpu_count': 4, 'gpu_model': '4 x NVIDIA A100-PCIE-40GB', 'available_cpu_count': 128, 'cpu_model': 'AMD EPYC 7742 64-Core Processor', 'os': 'Linux-5.15.0-113-generic-x86_64-with-glibc2.31', 'python_version': '3.10.14 (main, Apr  6 2024, 18:45:05) [GCC 9.4.0]', 'country': 'Germany', 'region': 'saxony'}\n",
      "[DEBUG] Enter get_experimental_variables: Accelerator index: 0\n",
      "[DEBUG] Exiting get_experimental_variables with result: {'max_input_tokens': 128, 'max_output_tokens': 128, 'number_input_prompts': 10, 'decode_token_to_text': True, 'decoder_temperature': 1.0, 'query_rate': 1, 'fp_precision': 'torch.float16', 'quantisation': None, 'batching_options': {'batch_size___fixed_batching': 16, 'adaptive_batching': False, 'adaptive_max_tokens': 3000, 'max_batch_size___adaptive_batching': 100}, 'sharding_config': {'fsdp_config': {'use_orig_params': True, 'cpu_offload': True}, 'sharding_strategy': 'NO_SHARD'}, 'accelerate_config': {'distributed_type': 'DistributedType.MULTI_GPU', 'num_processes': 4}, 'inference_type': 'pure_generative', 'backend': 'pytorch'}\n",
      "[DEBUG] Enter get_model_architecture: Process ID: 2739984\n",
      "[DEBUG] Exiting get_model_architecture with result: {'total_params': 1100048384, 'architecture': 'Unknown (no config attribute)'}\n"
     ]
    },
    {
     "name": "stderr",
     "output_type": "stream",
     "text": [
      "INFO:classes.experiment_runner:Main process saved (i) experiment setup, (ii) variables, (iii) model architecture.\n"
     ]
    },
    {
     "name": "stdout",
     "output_type": "stream",
     "text": [
      "Experiment-wide meta info saved\n",
      "[DEBUG] Enter combine_inference_metrics: Accelerator index: 0\n",
      "[DEBUG] Exiting combine_inference_metrics with result: {'number_input_prompts': 10, 'total_input_tokens': 1280, 'total_generated_tokens': 1280} & {'total_inference_time_sec': 27.09226178796962, 'average_latency_ms_per_batch': 27092.26178796962, 'throughput_queries_per_sec': 0.36910908650825613, 'throughput_tokens_per_sec': 47.245963073056785}\n",
      "[DEBUG] Enter combine_comp_metrics: Accelerator index: 0\n",
      "[DEBUG] All samples have length 128. Computing FLOPs for one sample.\n",
      "[DEBUG] Enter combine_energy_metrics: Process ID: 2739987, Local process index: 3\n",
      "[DEBUG] Energy consumed: 0.0040364227868164865 kWh, which equals 14531.122032539351 joules.\n",
      "[DEBUG] Exiting combine_energy_metrics with result: {'process_id': 2739987, 'local_process_index': 3, 'energy_results': {'cpu_power': 112.5, 'gpu_power': 588.3168523967275, 'ram_power': 3.847404956817627, 'cpu_energy': 0.0006094574886192278, 'gpu_energy': 0.003408671338045899, 'ram_energy': 1.829396015135974e-05, 'total_energy_kwh': 0.0040364227868164865, 'total_energy_joules': 14531.122032539351, 'final_emissions': 0.0015376752606377406}}\n"
     ]
    },
    {
     "name": "stderr",
     "output_type": "stream",
     "text": [
      "INFO:classes.experiment_runner:Process 3: Energy metrics combined successfully.\n",
      "INFO:classes.experiment_runner:[Process 2739987][GPU 3] saved its energy metrics.\n"
     ]
    },
    {
     "name": "stdout",
     "output_type": "stream",
     "text": [
      "[DEBUG] Computed FLOPs for one sample: 8410038272\n",
      "[DEBUG] Exiting combine_comp_metrics with result: flops = 84100382720; memory = {'gpu_current_memory_allocated_bytes': 1584502784, 'gpu_max_memory_allocated_bytes': 1584502784, 'gpu_current_memory_reserved_bytes': 2986344448, 'gpu_max_memory_reserved_bytes': 2986344448}; compute_util = {'gpu_utilization_percent': [100.0, 100.0, 0.0, 100.0], 'cpu_usage_percent': 5.3, 'cpu_memory_usage_bytes': 2509512704}\n"
     ]
    },
    {
     "name": "stderr",
     "output_type": "stream",
     "text": [
      "INFO:classes.experiment_runner:Main process saved inference and computation metrics.\n"
     ]
    },
    {
     "name": "stdout",
     "output_type": "stream",
     "text": [
      "Experiment-wide inference and compute metrics saved\n",
      "Entering wait barrier: after saving experiment metrics\n"
     ]
    },
    {
     "name": "stderr",
     "output_type": "stream",
     "text": [
      "INFO:_6_run_inference_by_task:[Process 2739985][GPU 1] — Completed batch inference 1/1\n",
      "INFO:classes.experiment_runner:[Process 2739985][GPU 1]: Inference complete\n"
     ]
    },
    {
     "name": "stdout",
     "output_type": "stream",
     "text": [
      "wait_for_everyone completed within 10 seconds for after saving experiment metrics.\n",
      "[DEBUG] Enter combine_energy_metrics: Process ID: 2739985, Local process index: 1Exiting wait barrier: after saving experiment metrics\n",
      "[DEBUG] Energy consumed: 0.006820196459578163 kWh, which equals 24552.707254481385 joules.\n",
      "\n",
      "[DEBUG] Enter combine_energy_metrics: Process ID: 2739984, Local process index: 0[DEBUG] Exiting combine_energy_metrics with result: {'process_id': 2739985, 'local_process_index': 1, 'energy_results': {'cpu_power': 112.5, 'gpu_power': 610.7322443855179, 'ram_power': 3.821298122406006, 'cpu_energy': 0.0010593112039969127, 'gpu_energy': 0.005728373749361637, 'ram_energy': 3.2511506219613687e-05, 'total_energy_kwh': 0.006820196459578163, 'total_energy_joules': 24552.707254481385, 'final_emissions': 0.002598153841276301}}\n",
      "\n"
     ]
    },
    {
     "name": "stderr",
     "output_type": "stream",
     "text": [
      "INFO:classes.experiment_runner:Process 1: Energy metrics combined successfully.\n"
     ]
    },
    {
     "name": "stdout",
     "output_type": "stream",
     "text": [
      "[DEBUG] Energy consumed: 0.005489432993811989 kWh, which equals 19761.95877772316 joules."
     ]
    },
    {
     "name": "stderr",
     "output_type": "stream",
     "text": [
      "INFO:classes.experiment_runner:[Process 2739985][GPU 1] saved its energy metrics.\n"
     ]
    },
    {
     "name": "stdout",
     "output_type": "stream",
     "text": [
      "\n",
      "[DEBUG] Exiting combine_energy_metrics with result: {'process_id': 2739984, 'local_process_index': 0, 'energy_results': {'cpu_power': 112.5, 'gpu_power': 140.72217218016723, 'ram_power': 3.8476896286010747, 'cpu_energy': 0.0008387277042238565, 'gpu_energy': 0.004624166199328705, 'ram_energy': 2.6539090259426494e-05, 'total_energy_kwh': 0.005489432993811989, 'total_energy_joules': 19761.95877772316, 'final_emissions': 0.0020911994989926772}}\n"
     ]
    },
    {
     "name": "stderr",
     "output_type": "stream",
     "text": [
      "INFO:classes.experiment_runner:Process 0: Energy metrics combined successfully.\n",
      "INFO:classes.experiment_runner:[Process 2739984][GPU 0] saved its energy metrics.\n"
     ]
    },
    {
     "name": "stdout",
     "output_type": "stream",
     "text": [
      "All local process energy metrics saved\n",
      "Experiment finished\n",
      "Destroyed process group successfully\n"
     ]
    },
    {
     "name": "stderr",
     "output_type": "stream",
     "text": [
      "INFO:classes.experiment_runner:Aggregating per-process energy metrics from disk.\n",
      "INFO:classes.experiment_runner:Aggregated global energy results successfully from disk.\n",
      "INFO:classes.experiment_runner:Saving experiment results\n",
      "INFO:classes.experiment_runner:Experiment results saved to results/text_generation_results.json\n"
     ]
    },
    {
     "name": "stdout",
     "output_type": "stream",
     "text": [
      "Starting teardown process...\n",
      "Process group not initialized.\n",
      "Emptying CUDA cache...\n",
      "Running garbage collection...\n",
      "Teardown process complete.\n"
     ]
    }
   ],
   "source": [
    "experiment_config = ExperimentConfig(\n",
    "    model_name=\"TinyLlama/TinyLlama-1.1B-Chat-v1.0\",\n",
    "    is_encoder_decoder=False,\n",
    "    task_type=\"text_generation\",\n",
    "    inference_type=\"pure_generative\",  \n",
    "    max_input_tokens=128, #2048 is Llama's limit\n",
    "    max_output_tokens=128,\n",
    "    num_input_prompts=10,\n",
    "    save_outputs=True,\n",
    "    decode_token_to_text=True,\n",
    "    gpu_list=[0,1,2,3],\n",
    "    num_processes=4,\n",
    "    batching_options={\n",
    "        \"batch_size___fixed_batching\":16,\n",
    "        \"adaptive_batching\": False,\n",
    "        \"adaptive_max_tokens\": 3000,\n",
    "        \"max_batch_size___adaptive_batching\": 100\n",
    "    },\n",
    "    sharding_config={\n",
    "        \"fsdp_config\": {\n",
    "            \"use_orig_params\": True,\n",
    "            \"cpu_offload\": True\n",
    "        },\n",
    "        \"sharding_strategy\": \"NO_SHARD\" #FULL_SHARD doesn't work\n",
    "    },\n",
    "    query_rate=1,\n",
    "    decoder_temperature=1.0, # NB: needs to be a float\n",
    "    fp_precision=\"float16\",\n",
    "    quantization_config={ # NOT SURE IF THIS WORKS???\n",
    "        \"quantization\": True,\n",
    "        \"load_in_8bit\": True,\n",
    "        #\"llm_int8_threshold\"=6.0,\n",
    "        \"llm_int8_enable_fp32_cpu_offload\": False,\n",
    "        \"llm_int8_has_fp16_weight\": False,\n",
    "        \"load_in_4bit\": False\n",
    "    },\n",
    "    backend=\"pytorch\"\n",
    ")\n",
    "\n",
    "# Load prompts (here, using the 'arxiv' split from the lighteval/pile_helm dataset)\n",
    "ds = load_dataset(\"lighteval/pile_helm\", \"arxiv\")[\"test\"]\n",
    "prompts = [sample[\"text\"] for sample in ds]\n",
    "\n",
    "# function to run the whole experiment workflow.\n",
    "def run_experiment_workflow():\n",
    "    # run experiment\n",
    "    runner = ExperimentRunner(experiment_config, prompts)\n",
    "    runner.run_torch()\n",
    "    \n",
    "    # If not main process, exit cleanly after run\n",
    "    if not runner.accelerator.is_main_process:\n",
    "        return  # do NOT proceed further\n",
    "\n",
    "    # Only main process continues\n",
    "    if runner.accelerator.is_main_process:\n",
    "         # aggregate results\n",
    "        runner.aggregate_results()\n",
    "        # save results\n",
    "        runner.save_experiment_results()  \n",
    "        \n",
    "    # could add in script here to delete JSON files if storage an issue\n",
    "    \n",
    "    runner.teardown()\n",
    "\n",
    "    return\n",
    "\n",
    "# Launch the experiment across the specified number of processes.\n",
    "notebook_launcher(run_experiment_workflow,\n",
    "                    num_processes=experiment_config.num_processes) \n",
    "                    #terminate_on_error=True) # USE THIS IN accelerate.launch.launch()                 "
   ]
  }
 ],
 "metadata": {
  "kernelspec": {
   "display_name": "thesis",
   "language": "python",
   "name": "python3"
  },
  "language_info": {
   "codemirror_mode": {
    "name": "ipython",
    "version": 3
   },
   "file_extension": ".py",
   "mimetype": "text/x-python",
   "name": "python",
   "nbconvert_exporter": "python",
   "pygments_lexer": "ipython3",
   "version": "3.10.14"
  }
 },
 "nbformat": 4,
 "nbformat_minor": 2
}
