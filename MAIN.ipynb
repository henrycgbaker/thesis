{
 "cells": [
  {
   "cell_type": "code",
   "execution_count": 1,
   "metadata": {},
   "outputs": [],
   "source": [
    "import sys\n",
    "import os\n",
    "from accelerate import notebook_launcher\n",
    "from datasets import load_dataset\n",
    "import logging\n",
    "\n",
    "# Configure logging:\n",
    "# (i) lear any pre-existing logging handlers (especially useful in notebook reruns)\n",
    "for handler in logging.root.handlers[:]:\n",
    "    logging.root.removeHandler(handler)\n",
    "# (ii) now safely configure logging\n",
    "logging.getLogger(\"codecarbon\").setLevel(logging.ERROR)\n",
    "logging.basicConfig(level=logging.INFO)\n",
    "\n",
    "# Adjust paths -> import classes\n",
    "project_root = os.getcwd()  \n",
    "if project_root not in sys.path:\n",
    "    sys.path.append(project_root)\n",
    "from classes.experiment_config import ExperimentConfig\n",
    "from classes.experiment_runner import ExperimentRunner\n",
    "\n",
    "#import torch.multiprocessing as mp\n",
    "#mp.set_start_method('spawn', force=True)"
   ]
  },
  {
   "cell_type": "code",
   "execution_count": null,
   "metadata": {},
   "outputs": [
    {
     "name": "stdout",
     "output_type": "stream",
     "text": [
      "Launching training on 4 GPUs.\n",
      "Accelerator set up\n",
      "Unique experiment id: 0186\n",
      "TinyLlama/TinyLlama-1.1B-Chat-v1.0 loaded using pytorch, with precision float16\n",
      "Original generate method saved.\n",
      "Model and tokenizer prepared\n",
      "Entering wait barrier: after model preparation\n",
      "Exiting wait barrier: after model preparation"
     ]
    },
    {
     "name": "stderr",
     "output_type": "stream",
     "text": [
      "INFO:classes.experiment_runner:[Process 2626993] Model is on device: cuda:3\n"
     ]
    },
    {
     "name": "stdout",
     "output_type": "stream",
     "text": [
      "\n"
     ]
    },
    {
     "name": "stderr",
     "output_type": "stream",
     "text": [
      "INFO:classes.experiment_runner:[Process 2626992] Model is on device: cuda:2\n",
      "INFO:classes.experiment_runner:[Process 2626991] Model is on device: cuda:1\n",
      "INFO:classes.experiment_runner:[Process 2626990] Model is on device: cuda:0\n"
     ]
    },
    {
     "name": "stdout",
     "output_type": "stream",
     "text": [
      "Entering wait barrier: after logging device info\n",
      "Exiting wait barrier: after logging device info\n",
      "Original generate method reassigned\n"
     ]
    },
    {
     "name": "stderr",
     "output_type": "stream",
     "text": [
      "INFO:classes.experiment_runner:[Process 2626992] Dummy forward pass complete\n",
      "INFO:classes.experiment_runner:[Process 2626991] Dummy forward pass complete\n",
      "INFO:classes.experiment_runner:[Process 2626993] Dummy forward pass complete\n",
      "INFO:classes.experiment_runner:[Process 2626990] Dummy forward pass complete\n"
     ]
    },
    {
     "name": "stdout",
     "output_type": "stream",
     "text": [
      "Entering wait barrier: after dummy forward pass\n",
      "Exiting wait barrier: after dummy forward pass\n",
      "Prompts processed: 50 prompts.\n",
      "Energy tracking started\n",
      "Task type: pure_generative\n",
      "Using fixed batching (non-adaptive): created 7 batches.\n"
     ]
    },
    {
     "name": "stderr",
     "output_type": "stream",
     "text": [
      "INFO:_6_run_inference_by_task:[Process 2626991][GPU 1] — Completed tokenisation of batch 1/7\n",
      "INFO:_6_run_inference_by_task:[Process 2626992][GPU 2] — Completed tokenisation of batch 1/7\n",
      "INFO:_6_run_inference_by_task:[Process 2626990][GPU 0] — Completed tokenisation of batch 1/7\n",
      "INFO:_6_run_inference_by_task:[Process 2626993][GPU 3] — Completed tokenisation of batch 1/7\n",
      "INFO:_6_run_inference_by_task:[Process 2626991][GPU 1] — Completed tokenisation of batch 2/7\n",
      "INFO:_6_run_inference_by_task:[Process 2626993][GPU 3] — Completed tokenisation of batch 2/7\n",
      "INFO:_6_run_inference_by_task:[Process 2626992][GPU 2] — Completed tokenisation of batch 2/7\n",
      "INFO:_6_run_inference_by_task:[Process 2626990][GPU 0] — Completed tokenisation of batch 2/7\n",
      "INFO:_6_run_inference_by_task:[Process 2626991][GPU 1] — Completed tokenisation of batch 3/7\n",
      "INFO:_6_run_inference_by_task:[Process 2626993][GPU 3] — Completed tokenisation of batch 3/7\n",
      "INFO:_6_run_inference_by_task:[Process 2626992][GPU 2] — Completed tokenisation of batch 3/7\n",
      "INFO:_6_run_inference_by_task:[Process 2626990][GPU 0] — Completed tokenisation of batch 3/7\n",
      "INFO:_6_run_inference_by_task:[Process 2626991][GPU 1] — Completed tokenisation of batch 4/7\n",
      "INFO:_6_run_inference_by_task:[Process 2626993][GPU 3] — Completed tokenisation of batch 4/7\n",
      "INFO:_6_run_inference_by_task:[Process 2626990][GPU 0] — Completed tokenisation of batch 4/7\n",
      "INFO:_6_run_inference_by_task:[Process 2626992][GPU 2] — Completed tokenisation of batch 4/7\n",
      "INFO:_6_run_inference_by_task:[Process 2626991][GPU 1] — Completed tokenisation of batch 5/7\n",
      "INFO:_6_run_inference_by_task:[Process 2626993][GPU 3] — Completed tokenisation of batch 5/7\n",
      "INFO:_6_run_inference_by_task:[Process 2626990][GPU 0] — Completed tokenisation of batch 5/7\n",
      "INFO:_6_run_inference_by_task:[Process 2626992][GPU 2] — Completed tokenisation of batch 5/7\n",
      "INFO:_6_run_inference_by_task:[Process 2626993][GPU 3] — Completed tokenisation of batch 6/7\n",
      "INFO:_6_run_inference_by_task:[Process 2626991][GPU 1] — Completed tokenisation of batch 6/7\n",
      "INFO:_6_run_inference_by_task:[Process 2626990][GPU 0] — Completed tokenisation of batch 6/7\n",
      "INFO:_6_run_inference_by_task:[Process 2626992][GPU 2] — Completed tokenisation of batch 6/7\n",
      "INFO:_6_run_inference_by_task:[Process 2626991][GPU 1] — Completed tokenisation of batch 7/7\n",
      "INFO:_6_run_inference_by_task:[Process 2626993][GPU 3] — Completed tokenisation of batch 7/7\n",
      "INFO:_6_run_inference_by_task:[Process 2626990][GPU 0] — Completed tokenisation of batch 7/7\n",
      "INFO:_6_run_inference_by_task:[Process 2626992][GPU 2] — Completed tokenisation of batch 7/7\n",
      "INFO:classes.experiment_runner:[Process 2626991][GPU 1]: Inference complete\n",
      "INFO:classes.experiment_runner:[Process 2626993][GPU 3]: Inference complete\n",
      "INFO:classes.experiment_runner:[Process 2626990][GPU 0]: Inference complete\n"
     ]
    },
    {
     "name": "stdout",
     "output_type": "stream",
     "text": [
      "Decoded token outputs successfully.\n",
      "Energy tracking stopped\n",
      "Entering wait barrier: after energy tracking stop\n"
     ]
    },
    {
     "name": "stderr",
     "output_type": "stream",
     "text": [
      "INFO:classes.experiment_runner:[Process 2626992][GPU 2]: Inference complete\n"
     ]
    },
    {
     "name": "stdout",
     "output_type": "stream",
     "text": [
      "Exiting wait barrier: after energy tracking stop\n",
      "Saved outputs\n",
      "[DEBUG] Enter get_experiment_setup: Experiment ID: 0186\n",
      "[DEBUG] Exiting get_experiment_setup with result: {'experiment_id': '0186', 'date_time': 'March 25, 2025 at 05:30:57 PM', 'model': 'TinyLlama/TinyLlama-1.1B-Chat-v1.0', 'is_encoder_decoder': False, 'task_type': 'text_generation', 'available_gpu_count': 4, 'gpu_model': '4 x NVIDIA A100-PCIE-40GB', 'available_cpu_count': 128, 'cpu_model': 'AMD EPYC 7742 64-Core Processor', 'os': 'Linux-5.15.0-113-generic-x86_64-with-glibc2.31', 'python_version': '3.10.14 (main, Apr  6 2024, 18:45:05) [GCC 9.4.0]', 'country': 'Germany', 'region': 'saxony'}\n",
      "[DEBUG] Enter get_experimental_variables: Accelerator index: 0\n",
      "[DEBUG] Exiting get_experimental_variables with result: {'max_input_tokens': 256, 'max_output_tokens': 128, 'number_input_prompts': 50, 'decode_token_to_text': True, 'decoder_temperature': 1.0, 'query_rate': 1, 'fp_precision': 'torch.float16', 'quantisation': None, 'batching_options': {'fixed_max_batch_size': 8, 'adaptive_batching': False, 'adaptive_max_tokens': 512}, 'sharding_config': {'fsdp_config': {'use_orig_params': True, 'cpu_offload': True}, 'sharding_strategy': 'NO_SHARD'}, 'accelerate_config': {'distributed_type': 'DistributedType.MULTI_GPU', 'num_processes': 4}, 'inference_type': 'pure_generative', 'backend': 'pytorch'}\n",
      "[DEBUG] Enter get_model_architecture: Process ID: 2626990\n",
      "[DEBUG] Exiting get_model_architecture with result: {'total_params': 1100048384, 'architecture': 'Unknown (no config attribute)'}\n"
     ]
    },
    {
     "name": "stderr",
     "output_type": "stream",
     "text": [
      "INFO:classes.experiment_runner:Main process saved (i) experiment setup, (ii) variables, (iii) model architecture.\n"
     ]
    },
    {
     "name": "stdout",
     "output_type": "stream",
     "text": [
      "Experiment-wide meta info saved\n",
      "[DEBUG] Enter combine_inference_metrics: Accelerator index: 0\n",
      "[DEBUG] Exiting combine_inference_metrics with result: {'number_input_prompts': 50, 'total_input_tokens': 12800, 'total_generated_tokens': 6400} & {'total_inference_time_sec': 24.916690498008393, 'average_latency_ms_per_batch': 3559.527214001199, 'throughput_queries_per_sec': 2.006687043931317, 'throughput_tokens_per_sec': 256.8559416232086}\n",
      "[DEBUG] Enter combine_comp_metrics: Accelerator index: 0\n",
      "[DEBUG] All samples have length 256. Computing FLOPs for one sample.\n",
      "[DEBUG] Computed FLOPs for one sample: 264843296768\n",
      "[DEBUG] Exiting combine_comp_metrics with result: flops = 13242164838400; memory = {'gpu_current_memory_allocated_bytes': 4419744768, 'gpu_max_memory_allocated_bytes': 4419744768, 'gpu_current_memory_reserved_bytes': 6933184512, 'gpu_max_memory_reserved_bytes': 6933184512}; compute_util = {'gpu_utilization_percent': [68.0, 100.0, 100.0, 100.0], 'cpu_usage_percent': 5.8, 'cpu_memory_usage_bytes': 3068715008}\n"
     ]
    },
    {
     "name": "stderr",
     "output_type": "stream",
     "text": [
      "INFO:classes.experiment_runner:Main process saved inference and computation metrics.\n"
     ]
    },
    {
     "name": "stdout",
     "output_type": "stream",
     "text": [
      "Experiment-wide inference and compute metrics saved\n",
      "Entering wait barrier: after saving experiment metrics\n",
      "Exiting wait barrier: after saving experiment metrics[DEBUG] Enter combine_energy_metrics: Process ID: 2626992, Local process index: 2[DEBUG] Enter combine_energy_metrics: Process ID: 2626991, Local process index: 1[DEBUG] Enter combine_energy_metrics: Process ID: 2626993, Local process index: 3\n",
      "\n",
      "\n",
      "\n",
      "[DEBUG] Enter combine_energy_metrics: Process ID: 2626990, Local process index: 0[DEBUG] Energy consumed: 0.006255023750990785 kWh, which equals 22518.08550356683 joules.[DEBUG] Energy consumed: 0.005931830432803333 kWh, which equals 21354.589558092 joules.[DEBUG] Energy consumed: 0.005948274421640506 kWh, which equals 21413.78791790582 joules.\n",
      "\n",
      "\n",
      "\n",
      "[DEBUG] Exiting combine_energy_metrics with result: {'process_id': 2626992, 'local_process_index': 2, 'energy_results': {'cpu_power': 112.5, 'gpu_power': 645.6149966768064, 'ram_power': 3.8208532333374023, 'cpu_energy': 0.0007940554781780522, 'gpu_energy': 0.0054386332397937664, 'ram_energy': 2.2335033018967845e-05, 'total_energy_kwh': 0.006255023750990785, 'total_energy_joules': 22518.08550356683, 'final_emissions': 0.0023828512979399397}}[DEBUG] Exiting combine_energy_metrics with result: {'process_id': 2626991, 'local_process_index': 1, 'energy_results': {'cpu_power': 112.5, 'gpu_power': 745.4446839850712, 'ram_power': 3.8182196617126465, 'cpu_energy': 0.0007505887925908612, 'gpu_energy': 0.005160261350428463, 'ram_energy': 2.098028978400795e-05, 'total_energy_kwh': 0.005931830432803333, 'total_energy_joules': 21354.589558092, 'final_emissions': 0.0022597308033764298}}[DEBUG] Energy consumed: 0.006176488239941039 kWh, which equals 22235.35766378774 joules.\n",
      "[DEBUG] Exiting combine_energy_metrics with result: {'process_id': 2626993, 'local_process_index': 3, 'energy_results': {'cpu_power': 112.5, 'gpu_power': 826.9045438254708, 'ram_power': 3.8182196617126465, 'cpu_energy': 0.0007505877392177356, 'gpu_energy': 0.005176906641524148, 'ram_energy': 2.0780040898623844e-05, 'total_energy_kwh': 0.005948274421640506, 'total_energy_joules': 21413.78791790582, 'final_emissions': 0.002265995140923951}}\n",
      "\n",
      "\n"
     ]
    },
    {
     "name": "stderr",
     "output_type": "stream",
     "text": [
      "INFO:classes.experiment_runner:Process 2: Energy metrics combined successfully.\n",
      "INFO:classes.experiment_runner:Process 1: Energy metrics combined successfully.\n"
     ]
    },
    {
     "name": "stdout",
     "output_type": "stream",
     "text": [
      "[DEBUG] Exiting combine_energy_metrics with result: {'process_id': 2626990, 'local_process_index': 0, 'energy_results': {'cpu_power': 112.5, 'gpu_power': 737.0377680446375, 'ram_power': 3.819994926452637, 'cpu_energy': 0.0007791859869066685, 'gpu_energy': 0.005375635689394365, 'ram_energy': 2.166656364000457e-05, 'total_energy_kwh': 0.006176488239941039, 'total_energy_joules': 22235.35766378774, 'final_emissions': 0.002352933195005539}}"
     ]
    },
    {
     "name": "stderr",
     "output_type": "stream",
     "text": [
      "INFO:classes.experiment_runner:[Process 2626992][GPU 2] saved its energy metrics.\n",
      "INFO:classes.experiment_runner:Process 3: Energy metrics combined successfully.\n",
      "INFO:classes.experiment_runner:[Process 2626991][GPU 1] saved its energy metrics.\n"
     ]
    },
    {
     "name": "stdout",
     "output_type": "stream",
     "text": [
      "\n"
     ]
    },
    {
     "name": "stderr",
     "output_type": "stream",
     "text": [
      "INFO:classes.experiment_runner:[Process 2626993][GPU 3] saved its energy metrics.\n",
      "INFO:classes.experiment_runner:Process 0: Energy metrics combined successfully.\n",
      "INFO:classes.experiment_runner:[Process 2626990][GPU 0] saved its energy metrics.\n"
     ]
    },
    {
     "name": "stdout",
     "output_type": "stream",
     "text": [
      "All local process energy metrics saved\n",
      "Experiment finished\n",
      "Destroyed process group successfully\n"
     ]
    },
    {
     "name": "stderr",
     "output_type": "stream",
     "text": [
      "INFO:classes.experiment_runner:Aggregating per-process energy metrics from disk.\n",
      "INFO:classes.experiment_runner:Aggregated global energy results successfully from disk.\n",
      "INFO:classes.experiment_runner:Saving experiment results\n",
      "INFO:classes.experiment_runner:Experiment results saved to results/text_generation_results.json\n"
     ]
    },
    {
     "name": "stdout",
     "output_type": "stream",
     "text": [
      "Starting teardown process...\n",
      "Process group not initialized.\n",
      "Emptying CUDA cache...\n",
      "Running garbage collection...\n",
      "Teardown process complete.\n"
     ]
    }
   ],
   "source": [
    "experiment_config = ExperimentConfig(\n",
    "    model_name=\"TinyLlama/TinyLlama-1.1B-Chat-v1.0\",\n",
    "    is_encoder_decoder=False,\n",
    "    task_type=\"text_generation\",\n",
    "    inference_type=\"pure_generative\",  \n",
    "    max_input_tokens=512,\n",
    "    max_output_tokens=512,\n",
    "    num_input_prompts=100,\n",
    "    save_outputs=True,\n",
    "    decode_token_to_text=True,\n",
    "    gpu_list=[0,1,2,3],\n",
    "    num_processes=4,\n",
    "    batching_options={\n",
    "        \"fixed_max_batch_size\": 8, # this is max batch size if adaptive batching on; fixed batch size if it's off\n",
    "        \"adaptive_batching\": False,\n",
    "        \"adaptive_max_tokens\": 512  \n",
    "    },\n",
    "    sharding_config={\n",
    "        \"fsdp_config\": {\n",
    "            \"use_orig_params\": True,\n",
    "            \"cpu_offload\": True\n",
    "        },\n",
    "        \"sharding_strategy\": \"NO_SHARD\"\n",
    "    },\n",
    "    query_rate=1,\n",
    "    decoder_temperature=1.0, # NB: needs to be a float\n",
    "    fp_precision=\"float16\",\n",
    "    backend=\"pytorch\"\n",
    ")\n",
    "\n",
    "# Load prompts (here, using the 'arxiv' split from the lighteval/pile_helm dataset)\n",
    "ds = load_dataset(\"lighteval/pile_helm\", \"arxiv\")[\"test\"]\n",
    "prompts = [sample[\"text\"] for sample in ds]\n",
    "\n",
    "# function to run the whole experiment workflow.\n",
    "def run_experiment_workflow():\n",
    "    # run experiment\n",
    "    runner = ExperimentRunner(experiment_config, prompts)\n",
    "    runner.run_torch()\n",
    "    \n",
    "    # If not main process, exit cleanly after run\n",
    "    if not runner.accelerator.is_main_process:\n",
    "        return  # do NOT proceed further\n",
    "\n",
    "    # Only main process continues\n",
    "    if runner.accelerator.is_main_process:\n",
    "         # aggregate results\n",
    "        runner.aggregate_results()\n",
    "        # save results\n",
    "        runner.save_experiment_results()  \n",
    "        \n",
    "    # could add in script here to delete JSON files if storage an issue\n",
    "    \n",
    "    runner.teardown()\n",
    "\n",
    "    return runner\n",
    "\n",
    "# Launch the experiment across the specified number of processes.\n",
    "notebook_launcher(run_experiment_workflow,\n",
    "                    num_processes=experiment_config.num_processes) \n",
    "                    #terminate_on_error=True) # USE THIS IN accelerate.launch.launch()                 "
   ]
  }
 ],
 "metadata": {
  "kernelspec": {
   "display_name": "thesis",
   "language": "python",
   "name": "python3"
  },
  "language_info": {
   "codemirror_mode": {
    "name": "ipython",
    "version": 3
   },
   "file_extension": ".py",
   "mimetype": "text/x-python",
   "name": "python",
   "nbconvert_exporter": "python",
   "pygments_lexer": "ipython3",
   "version": "3.10.14"
  }
 },
 "nbformat": 4,
 "nbformat_minor": 2
}
