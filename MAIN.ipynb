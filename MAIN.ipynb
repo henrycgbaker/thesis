{
 "cells": [
  {
   "cell_type": "code",
   "execution_count": 1,
   "metadata": {},
   "outputs": [],
   "source": [
    "import sys\n",
    "import os\n",
    "from accelerate import notebook_launcher\n",
    "from datasets import load_dataset\n",
    "import logging\n",
    "import torch\n",
    "\n",
    "# Configure logging:\n",
    "# (i) lear any pre-existing logging handlers (especially useful in notebook reruns)\n",
    "for handler in logging.root.handlers[:]:\n",
    "    logging.root.removeHandler(handler)\n",
    "# (ii) now safely configure logging\n",
    "logging.getLogger(\"codecarbon\").setLevel(logging.ERROR)\n",
    "logging.basicConfig(level=logging.INFO)\n",
    "\n",
    "# Adjust paths -> import classes\n",
    "project_root = os.getcwd()  \n",
    "if project_root not in sys.path:\n",
    "    sys.path.append(project_root)\n",
    "    \n",
    "from classes.experiment_config import ExperimentConfig\n",
    "from classes.experiment_runner import ExperimentRunner\n",
    "\n",
    "#import torch.multiprocessing as mp\n",
    "#mp.set_start_method('spawn', force=True)"
   ]
  },
  {
   "cell_type": "code",
   "execution_count": 2,
   "metadata": {},
   "outputs": [
    {
     "name": "stdout",
     "output_type": "stream",
     "text": [
      "Launching training on 4 GPUs.\n",
      "Accelerator set up\n",
      "Unique experiment id: 0268\n"
     ]
    },
    {
     "name": "stderr",
     "output_type": "stream",
     "text": [
      "`low_cpu_mem_usage` was None, now default to True since model is quantized.\n"
     ]
    },
    {
     "name": "stdout",
     "output_type": "stream",
     "text": [
      "TinyLlama/TinyLlama-1.1B-Chat-v1.0 loaded using pytorch, with precision float32\n",
      "Entering wait barrier: after load_model_tokenizer\n"
     ]
    },
    {
     "name": "stderr",
     "output_type": "stream",
     "text": [
      "`low_cpu_mem_usage` was None, now default to True since model is quantized.\n",
      "`low_cpu_mem_usage` was None, now default to True since model is quantized.\n",
      "`low_cpu_mem_usage` was None, now default to True since model is quantized.\n"
     ]
    },
    {
     "name": "stdout",
     "output_type": "stream",
     "text": [
      "wait_for_everyone completed within 10 seconds for after load_model_tokenizer.\n",
      "Exiting wait barrier: after load_model_tokenizer\n",
      "Original generate method saved.\n",
      "Model and tokenizer prepared\n",
      "Entering wait barrier: after model preparation\n"
     ]
    },
    {
     "name": "stderr",
     "output_type": "stream",
     "text": [
      "INFO:classes.experiment_runner:[Process 3707750] Model is on device: cuda:1\n",
      "INFO:classes.experiment_runner:[Process 3707752] Model is on device: cuda:3\n"
     ]
    },
    {
     "name": "stdout",
     "output_type": "stream",
     "text": [
      "wait_for_everyone completed within 10 seconds for after model preparation."
     ]
    },
    {
     "name": "stderr",
     "output_type": "stream",
     "text": [
      "INFO:classes.experiment_runner:[Process 3707751] Model is on device: cuda:2\n"
     ]
    },
    {
     "name": "stdout",
     "output_type": "stream",
     "text": [
      "\n",
      "Exiting wait barrier: after model preparation\n"
     ]
    },
    {
     "name": "stderr",
     "output_type": "stream",
     "text": [
      "INFO:classes.experiment_runner:[Process 3707749] Model is on device: cuda:0\n"
     ]
    },
    {
     "name": "stdout",
     "output_type": "stream",
     "text": [
      "Entering wait barrier: after logging device info\n",
      "wait_for_everyone completed within 10 seconds for after logging device info.\n",
      "Exiting wait barrier: after logging device info\n",
      "Original generate method reassigned\n"
     ]
    },
    {
     "name": "stderr",
     "output_type": "stream",
     "text": [
      "INFO:classes.experiment_runner:[Process 3707750] Dummy forward pass complete\n",
      "INFO:classes.experiment_runner:[Process 3707752] Dummy forward pass complete\n",
      "INFO:classes.experiment_runner:[Process 3707749] Dummy forward pass complete\n"
     ]
    },
    {
     "name": "stdout",
     "output_type": "stream",
     "text": [
      "Entering wait barrier: after dummy forward pass\n"
     ]
    },
    {
     "name": "stderr",
     "output_type": "stream",
     "text": [
      "INFO:classes.experiment_runner:[Process 3707751] Dummy forward pass complete\n"
     ]
    },
    {
     "name": "stdout",
     "output_type": "stream",
     "text": [
      "wait_for_everyone completed within 10 seconds for after dummy forward pass.\n",
      "Exiting wait barrier: after dummy forward pass\n",
      "Prompts processed: 10 prompts.\n",
      "Energy tracking started\n",
      "Task type: pure_generative\n",
      "Using fixed batching (non-adaptive): created 1 batches.\n"
     ]
    },
    {
     "name": "stderr",
     "output_type": "stream",
     "text": [
      "INFO:_6_run_inference_by_task:[Process 3707751][GPU 2] — Completed tokenisation of batch 1/1\n",
      "INFO:_6_run_inference_by_task:[Process 3707750][GPU 1] — Completed tokenisation of batch 1/1\n",
      "INFO:_6_run_inference_by_task:[Process 3707752][GPU 3] — Completed tokenisation of batch 1/1\n",
      "INFO:_6_run_inference_by_task:[Process 3707749][GPU 0] — Completed tokenisation of batch 1/1\n",
      "INFO:_6_run_inference_by_task:[Process 3707750][GPU 1] — Completed batch inference 1/1\n",
      "INFO:classes.experiment_runner:[Process 3707750][GPU 1]: Inference complete\n",
      "INFO:_6_run_inference_by_task:[Process 3707752][GPU 3] — Completed batch inference 1/1\n",
      "INFO:classes.experiment_runner:[Process 3707752][GPU 3]: Inference complete\n",
      "INFO:classes.experiment_runner:[Process 3707750][GPU 1]: Energy tracking stopped\n",
      "INFO:classes.experiment_runner:[Process 3707752][GPU 3]: Energy tracking stopped\n",
      "INFO:_6_run_inference_by_task:[Process 3707749][GPU 0] — Completed batch inference 1/1\n",
      "INFO:classes.experiment_runner:[Process 3707749][GPU 0]: Inference complete\n"
     ]
    },
    {
     "name": "stdout",
     "output_type": "stream",
     "text": [
      "Decoded token outputs successfully.\n"
     ]
    },
    {
     "name": "stderr",
     "output_type": "stream",
     "text": [
      "INFO:classes.experiment_runner:[Process 3707749][GPU 0]: Energy tracking stopped\n"
     ]
    },
    {
     "name": "stdout",
     "output_type": "stream",
     "text": [
      "Saved outputs\n",
      "[DEBUG] Enter get_experiment_setup: Experiment ID: 0268\n",
      "[DEBUG] Exiting get_experiment_setup with result: {'experiment_id': '0268', 'date_time': 'March 28, 2025 at 07:17:47 PM', 'model': 'TinyLlama/TinyLlama-1.1B-Chat-v1.0', 'is_encoder_decoder': False, 'task_type': 'text_generation', 'available_gpu_count': 4, 'gpu_model': '4 x NVIDIA A100-PCIE-40GB', 'available_cpu_count': 128, 'cpu_model': 'AMD EPYC 7742 64-Core Processor', 'os': 'Linux-5.15.0-113-generic-x86_64-with-glibc2.31', 'python_version': '3.10.14 (main, Apr  6 2024, 18:45:05) [GCC 9.4.0]', 'country': 'Germany', 'region': 'saxony'}\n",
      "[DEBUG] Enter get_experimental_variables: Accelerator index: 0\n",
      "[DEBUG] Exiting get_experimental_variables with result: {'max_input_tokens': 500, 'max_output_tokens': 200, 'number_input_prompts': 10, 'decode_token_to_text': True, 'decoder_temperature': 1.0, 'query_rate': 1, 'fp_precision': 'torch.float16', 'quantisation': {'quantization': True, 'cached_flops_for_quantised_models': 5172720640000, 'load_in_8bit': False, 'load_in_4bit': True, 'llm_int8_enable_fp32_cpu_offload': False, 'llm_int8_has_fp16_weight': False}, 'batching_options': {'batch_size___fixed_batching': 16, 'adaptive_batching': False, 'adaptive_max_tokens': 3000, 'max_batch_size___adaptive_batching': 100}, 'sharding_config': {'fsdp_config': {'use_orig_params': True, 'cpu_offload': True}, 'sharding_strategy': 'NO_SHARD'}, 'accelerate_config': {'distributed_type': 'DistributedType.MULTI_GPU', 'num_processes': 4}, 'inference_type': 'pure_generative', 'backend': 'pytorch'}\n",
      "[DEBUG] Enter get_model_architecture: Process ID: 3707749\n"
     ]
    },
    {
     "name": "stderr",
     "output_type": "stream",
     "text": [
      "INFO:_6_run_inference_by_task:[Process 3707751][GPU 2] — Completed batch inference 1/1\n",
      "INFO:classes.experiment_runner:[Process 3707751][GPU 2]: Inference complete\n"
     ]
    },
    {
     "name": "stdout",
     "output_type": "stream",
     "text": [
      "[DEBUG] Exiting get_model_architecture with result: {'total_params': 615606272, 'architecture': 'Unknown (no config attribute)'}\n"
     ]
    },
    {
     "name": "stderr",
     "output_type": "stream",
     "text": [
      "INFO:classes.experiment_runner:Main process saved (i) experiment setup, (ii) variables, (iii) model architecture.\n"
     ]
    },
    {
     "name": "stdout",
     "output_type": "stream",
     "text": [
      "Experiment-wide meta info saved\n",
      "[DEBUG] Enter combine_inference_metrics: Accelerator index: 0\n",
      "[DEBUG] Exiting combine_inference_metrics with result: {'number_input_prompts': 10, 'total_input_tokens': 5000, 'total_generated_tokens': 2000} & {'total_inference_time_sec': 9.440358299063519, 'average_latency_ms_per_batch': 9440.358299063519, 'throughput_queries_per_sec': 1.059281828422974, 'throughput_tokens_per_sec': 211.85636568459478}\n",
      "[DEBUG] Enter combine_comp_metrics: Accelerator index: 0\n",
      "[DEBUG] Using cached FLOPs for quantized model: 5172720640000\n"
     ]
    },
    {
     "name": "stderr",
     "output_type": "stream",
     "text": [
      "INFO:classes.experiment_runner:[Process 3707751][GPU 2]: Energy tracking stopped\n"
     ]
    },
    {
     "name": "stdout",
     "output_type": "stream",
     "text": [
      "[DEBUG] Exiting combine_comp_metrics with result: flops = 5172720640000; memory = {'gpu_current_memory_allocated_bytes': 1087482880, 'gpu_max_memory_allocated_bytes': 1087482880, 'gpu_current_memory_reserved_bytes': 1881145344, 'gpu_max_memory_reserved_bytes': 1881145344}; compute_util = {'gpu_utilization_percent': [99.0, 100.0, 100.0, 100.0], 'cpu_usage_percent': 55.2, 'cpu_memory_usage_bytes': 2472202240}\n"
     ]
    },
    {
     "name": "stderr",
     "output_type": "stream",
     "text": [
      "INFO:classes.experiment_runner:Main process saved inference and computation metrics.\n"
     ]
    },
    {
     "name": "stdout",
     "output_type": "stream",
     "text": [
      "Experiment-wide inference and compute metrics saved\n",
      "Entering wait barrier: after saving experiment metrics\n",
      "wait_for_everyone completed within 10 seconds for after saving experiment metrics.[DEBUG] Enter combine_energy_metrics: Process ID: 3707750, Local process index: 1[DEBUG] Enter combine_energy_metrics: Process ID: 3707751, Local process index: 2[DEBUG] Enter combine_energy_metrics: Process ID: 3707752, Local process index: 3\n",
      "\n",
      "\n",
      "\n",
      "Exiting wait barrier: after saving experiment metrics[DEBUG] Energy consumed: 0.001871873791013006 kWh, which equals 6738.745647646821 joules.[DEBUG] Energy consumed: 0.00211040424585803 kWh, which equals 7597.455285088908 joules.[DEBUG] Energy consumed: 0.0018950924273310197 kWh, which equals 6822.33273839167 joules.\n",
      "\n",
      "\n",
      "\n",
      "[DEBUG] Enter combine_energy_metrics: Process ID: 3707749, Local process index: 0[DEBUG] Exiting combine_energy_metrics with result: {'process_id': 3707750, 'local_process_index': 1, 'energy_results': {'cpu_power': 112.5, 'gpu_power': 700.3627816766635, 'ram_power': 3.8686251640319824, 'cpu_energy': 0.0002718770169994969, 'gpu_energy': 0.001592989885503826, 'ram_energy': 7.006888509683143e-06, 'total_energy_kwh': 0.001871873791013006, 'total_energy_joules': 6738.745647646821, 'final_emissions': 0.0007130903206864046}}[DEBUG] Exiting combine_energy_metrics with result: {'process_id': 3707752, 'local_process_index': 3, 'energy_results': {'cpu_power': 112.5, 'gpu_power': 690.2418029943183, 'ram_power': 3.8689956665039062, 'cpu_energy': 0.000274790890274744, 'gpu_energy': 0.001612976568161173, 'ram_energy': 7.324968895102891e-06, 'total_energy_kwh': 0.0018950924273310197, 'total_energy_joules': 6822.33273839167, 'final_emissions': 0.0007219354601917519}}[DEBUG] Exiting combine_energy_metrics with result: {'process_id': 3707751, 'local_process_index': 2, 'energy_results': {'cpu_power': 112.5, 'gpu_power': 545.5024644044947, 'ram_power': 3.870297431945801, 'cpu_energy': 0.0003107287525344874, 'gpu_energy': 0.001791169766276468, 'ram_energy': 8.505727047074521e-06, 'total_energy_kwh': 0.00211040424585803, 'total_energy_joules': 7597.455285088908, 'final_emissions': 0.0008039584974596165}}\n",
      "\n",
      "\n",
      "\n"
     ]
    },
    {
     "name": "stderr",
     "output_type": "stream",
     "text": [
      "INFO:classes.experiment_runner:Process 1: Energy metrics combined successfully.\n"
     ]
    },
    {
     "name": "stdout",
     "output_type": "stream",
     "text": [
      "[DEBUG] Energy consumed: 0.0020571651591883926 kWh, which equals 7405.794573078213 joules."
     ]
    },
    {
     "name": "stderr",
     "output_type": "stream",
     "text": [
      "INFO:classes.experiment_runner:Process 3: Energy metrics combined successfully.\n",
      "INFO:classes.experiment_runner:Process 2: Energy metrics combined successfully.\n"
     ]
    },
    {
     "name": "stdout",
     "output_type": "stream",
     "text": [
      "\n"
     ]
    },
    {
     "name": "stderr",
     "output_type": "stream",
     "text": [
      "INFO:classes.experiment_runner:[Process 3707750][GPU 1] saved its energy metrics.\n",
      "INFO:classes.experiment_runner:[Process 3707752][GPU 3] saved its energy metrics.\n"
     ]
    },
    {
     "name": "stdout",
     "output_type": "stream",
     "text": [
      "[DEBUG] Exiting combine_energy_metrics with result: {'process_id': 3707749, 'local_process_index': 0, 'energy_results': {'cpu_power': 112.5, 'gpu_power': 618.1203356870573, 'ram_power': 3.8695993423461914, 'cpu_energy': 0.0002994888446519326, 'gpu_energy': 0.00174970584420997, 'ram_energy': 7.970470326490563e-06, 'total_energy_kwh': 0.0020571651591883926, 'total_energy_joules': 7405.794573078213, 'final_emissions': 0.0007836770673928182}}"
     ]
    },
    {
     "name": "stderr",
     "output_type": "stream",
     "text": [
      "INFO:classes.experiment_runner:[Process 3707751][GPU 2] saved its energy metrics.\n"
     ]
    },
    {
     "name": "stdout",
     "output_type": "stream",
     "text": [
      "\n"
     ]
    },
    {
     "name": "stderr",
     "output_type": "stream",
     "text": [
      "INFO:classes.experiment_runner:Process 0: Energy metrics combined successfully.\n",
      "INFO:classes.experiment_runner:[Process 3707749][GPU 0] saved its energy metrics.\n"
     ]
    },
    {
     "name": "stdout",
     "output_type": "stream",
     "text": [
      "All local process energy metrics saved\n",
      "Experiment finished\n",
      "Destroyed process group successfully\n"
     ]
    },
    {
     "name": "stderr",
     "output_type": "stream",
     "text": [
      "INFO:classes.experiment_runner:Aggregating per-process energy metrics from disk.\n",
      "INFO:classes.experiment_runner:Aggregated global energy results successfully from disk.\n",
      "INFO:classes.experiment_runner:Saving experiment results\n",
      "INFO:classes.experiment_runner:Experiment results saved to results/text_generation_results.json\n"
     ]
    },
    {
     "name": "stdout",
     "output_type": "stream",
     "text": [
      "Starting teardown process...\n",
      "Process group not initialized.\n",
      "Emptying CUDA cache...\n",
      "Running garbage collection...\n",
      "Teardown process complete.\n"
     ]
    }
   ],
   "source": [
    "experiment_config = ExperimentConfig(\n",
    "    model_name=\"TinyLlama/TinyLlama-1.1B-Chat-v1.0\",\n",
    "    is_encoder_decoder=False,\n",
    "    task_type=\"text_generation\",\n",
    "    inference_type=\"pure_generative\",  \n",
    "    max_input_tokens=500, #2048 is Llama's limit\n",
    "    max_output_tokens=200,\n",
    "    num_input_prompts=10,\n",
    "    save_outputs=True,\n",
    "    decode_token_to_text=True,\n",
    "    gpu_list=[0,1,2,3],\n",
    "    num_processes=4,\n",
    "    batching_options={\n",
    "        \"batch_size___fixed_batching\":16,\n",
    "        \"adaptive_batching\": False,\n",
    "        \"adaptive_max_tokens\": 3000,\n",
    "        \"max_batch_size___adaptive_batching\": 100\n",
    "    },\n",
    "    sharding_config={\n",
    "        \"fsdp_config\": {\n",
    "            \"use_orig_params\": True,\n",
    "            \"cpu_offload\": True\n",
    "        },\n",
    "        \"sharding_strategy\": \"NO_SHARD\" #FULL_SHARD doesn't work\n",
    "    },\n",
    "    query_rate=1,\n",
    "    decoder_temperature=1.0, # if 0: deterministic, if >0 do_sample is activated. NB: needs to be a float.. Higher Temperature → Longer Outputs (sometimes)If stopping criterion is based on tokens (e.g., EOS token), high temperature might delay reaching it.\n",
    "\n",
    "    fp_precision=\"float32\",\n",
    "    quantization_config={\n",
    "        \"quantization\": True,\n",
    "        \"cached_flops_for_quantised_models\": 5172720640000, # THIS IS NEEDED UNTIL I CAN WORK OUT HOW TO COMPUTE FLOPS OF QUANITSED MODELS\n",
    "        \"load_in_8bit\": False,\n",
    "        \"load_in_4bit\": True,\n",
    "        #\"llm_int8_threshold\"=6.0,\n",
    "        \"llm_int8_enable_fp32_cpu_offload\": False,\n",
    "        \"llm_int8_has_fp16_weight\": False,\n",
    "    },\n",
    "    backend=\"pytorch\"\n",
    ")\n",
    "\n",
    "# Load prompts (here, using the 'arxiv' split from the lighteval/pile_helm dataset)\n",
    "ds = load_dataset(\"lighteval/pile_helm\", \"arxiv\")[\"test\"]\n",
    "prompts = [sample[\"text\"] for sample in ds]\n",
    "\n",
    "# function to run the whole experiment workflow.\n",
    "def run_experiment_workflow():\n",
    "    \n",
    "    # run experiment\n",
    "    runner = ExperimentRunner(experiment_config, prompts)\n",
    "    \n",
    "    runner.run_torch()\n",
    "    \n",
    "    # If not main process, exit cleanly after run\n",
    "    if not runner.accelerator.is_main_process:\n",
    "        return  # do NOT proceed further\n",
    "\n",
    "    # Only main process continues\n",
    "    if runner.accelerator.is_main_process:\n",
    "         # aggregate results\n",
    "        runner.aggregate_results()\n",
    "        # save results\n",
    "        runner.save_experiment_results()  \n",
    "        \n",
    "    # could add in script here to delete JSON files if storage an issue\n",
    "    \n",
    "    runner.teardown()\n",
    "\n",
    "    return\n",
    "\n",
    "# Launch the experiment across the specified number of processes.\n",
    "notebook_launcher(run_experiment_workflow,\n",
    "                    num_processes=experiment_config.num_processes) \n",
    "                    #terminate_on_error=True) # USE THIS IN accelerate.launch.launch()                 "
   ]
  }
 ],
 "metadata": {
  "kernelspec": {
   "display_name": "thesis",
   "language": "python",
   "name": "python3"
  },
  "language_info": {
   "codemirror_mode": {
    "name": "ipython",
    "version": 3
   },
   "file_extension": ".py",
   "mimetype": "text/x-python",
   "name": "python",
   "nbconvert_exporter": "python",
   "pygments_lexer": "ipython3",
   "version": "3.10.14"
  }
 },
 "nbformat": 4,
 "nbformat_minor": 2
}
