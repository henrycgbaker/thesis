{
 "cells": [
  {
   "cell_type": "code",
   "execution_count": 1,
   "metadata": {},
   "outputs": [],
   "source": [
    "import sys\n",
    "import os\n",
    "from accelerate import notebook_launcher\n",
    "from datasets import load_dataset\n",
    "import logging\n",
    "\n",
    "# Configure logging:\n",
    "# (i) lear any pre-existing logging handlers (especially useful in notebook reruns)\n",
    "for handler in logging.root.handlers[:]:\n",
    "    logging.root.removeHandler(handler)\n",
    "# (ii) now safely configure logging\n",
    "logging.getLogger(\"codecarbon\").setLevel(logging.ERROR)\n",
    "logging.basicConfig(level=logging.INFO)\n",
    "\n",
    "# Adjust paths -> import classes\n",
    "project_root = os.getcwd()  \n",
    "if project_root not in sys.path:\n",
    "    sys.path.append(project_root)\n",
    "from classes.experiment_config import ExperimentConfig\n",
    "from classes.experiment_runner import ExperimentRunner\n",
    "\n",
    "#import torch.multiprocessing as mp\n",
    "#mp.set_start_method('spawn', force=True)"
   ]
  },
  {
   "cell_type": "code",
   "execution_count": null,
   "metadata": {},
   "outputs": [
    {
     "name": "stdout",
     "output_type": "stream",
     "text": [
      "Launching training on 4 GPUs.\n",
      "Accelerator set up\n",
      "Unique experiment id: 0191\n",
      "TinyLlama/TinyLlama-1.1B-Chat-v1.0 loaded using pytorch, with precision float16\n",
      "Original generate method saved.\n",
      "Model and tokenizer prepared\n",
      "Entering wait barrier: after model preparation\n",
      "Exiting wait barrier: after model preparation\n"
     ]
    },
    {
     "name": "stderr",
     "output_type": "stream",
     "text": [
      "INFO:classes.experiment_runner:[Process 2648911] Model is on device: cuda:1\n",
      "INFO:classes.experiment_runner:[Process 2648910] Model is on device: cuda:0\n"
     ]
    },
    {
     "name": "stdout",
     "output_type": "stream",
     "text": [
      "Entering wait barrier: after logging device info"
     ]
    },
    {
     "name": "stderr",
     "output_type": "stream",
     "text": [
      "INFO:classes.experiment_runner:[Process 2648912] Model is on device: cuda:2\n",
      "INFO:classes.experiment_runner:[Process 2648913] Model is on device: cuda:3\n"
     ]
    },
    {
     "name": "stdout",
     "output_type": "stream",
     "text": [
      "\n",
      "Exiting wait barrier: after logging device info\n",
      "Original generate method reassigned\n"
     ]
    },
    {
     "name": "stderr",
     "output_type": "stream",
     "text": [
      "INFO:classes.experiment_runner:[Process 2648911] Dummy forward pass complete\n",
      "INFO:classes.experiment_runner:[Process 2648910] Dummy forward pass complete\n"
     ]
    },
    {
     "name": "stdout",
     "output_type": "stream",
     "text": [
      "Entering wait barrier: after dummy forward pass\n"
     ]
    },
    {
     "name": "stderr",
     "output_type": "stream",
     "text": [
      "INFO:classes.experiment_runner:[Process 2648912] Dummy forward pass complete\n",
      "INFO:classes.experiment_runner:[Process 2648913] Dummy forward pass complete\n"
     ]
    },
    {
     "name": "stdout",
     "output_type": "stream",
     "text": [
      "Exiting wait barrier: after dummy forward pass\n",
      "Prompts processed: 100 prompts.\n"
     ]
    },
    {
     "name": "stderr",
     "output_type": "stream",
     "text": [
      "INFO:_6_run_inference_by_task:[Process 2648911][GPU 1] — Completed tokenisation of batch 1/13\n"
     ]
    },
    {
     "name": "stdout",
     "output_type": "stream",
     "text": [
      "Energy tracking started\n",
      "Task type: pure_generative\n",
      "Using fixed batching (non-adaptive): created 13 batches.\n"
     ]
    },
    {
     "name": "stderr",
     "output_type": "stream",
     "text": [
      "INFO:_6_run_inference_by_task:[Process 2648913][GPU 3] — Completed tokenisation of batch 1/13\n",
      "INFO:_6_run_inference_by_task:[Process 2648912][GPU 2] — Completed tokenisation of batch 1/13\n",
      "INFO:_6_run_inference_by_task:[Process 2648910][GPU 0] — Completed tokenisation of batch 1/13\n",
      "INFO:_6_run_inference_by_task:[Process 2648913][GPU 3] — Completed batch inference 1/13\n",
      "INFO:_6_run_inference_by_task:[Process 2648913][GPU 3] — Completed tokenisation of batch 2/13\n",
      "INFO:_6_run_inference_by_task:[Process 2648911][GPU 1] — Completed batch inference 1/13\n",
      "INFO:_6_run_inference_by_task:[Process 2648911][GPU 1] — Completed tokenisation of batch 2/13\n",
      "INFO:_6_run_inference_by_task:[Process 2648910][GPU 0] — Completed batch inference 1/13\n",
      "INFO:_6_run_inference_by_task:[Process 2648910][GPU 0] — Completed tokenisation of batch 2/13\n",
      "INFO:_6_run_inference_by_task:[Process 2648912][GPU 2] — Completed batch inference 1/13\n",
      "INFO:_6_run_inference_by_task:[Process 2648912][GPU 2] — Completed tokenisation of batch 2/13\n",
      "INFO:_6_run_inference_by_task:[Process 2648913][GPU 3] — Completed batch inference 2/13\n",
      "INFO:_6_run_inference_by_task:[Process 2648913][GPU 3] — Completed tokenisation of batch 3/13\n",
      "INFO:_6_run_inference_by_task:[Process 2648911][GPU 1] — Completed batch inference 2/13\n",
      "INFO:_6_run_inference_by_task:[Process 2648911][GPU 1] — Completed tokenisation of batch 3/13\n",
      "INFO:_6_run_inference_by_task:[Process 2648910][GPU 0] — Completed batch inference 2/13\n",
      "INFO:_6_run_inference_by_task:[Process 2648910][GPU 0] — Completed tokenisation of batch 3/13\n",
      "INFO:_6_run_inference_by_task:[Process 2648912][GPU 2] — Completed batch inference 2/13\n",
      "INFO:_6_run_inference_by_task:[Process 2648912][GPU 2] — Completed tokenisation of batch 3/13\n",
      "INFO:_6_run_inference_by_task:[Process 2648913][GPU 3] — Completed batch inference 3/13\n",
      "INFO:_6_run_inference_by_task:[Process 2648913][GPU 3] — Completed tokenisation of batch 4/13\n",
      "INFO:_6_run_inference_by_task:[Process 2648911][GPU 1] — Completed batch inference 3/13\n",
      "INFO:_6_run_inference_by_task:[Process 2648911][GPU 1] — Completed tokenisation of batch 4/13\n",
      "INFO:_6_run_inference_by_task:[Process 2648910][GPU 0] — Completed batch inference 3/13\n",
      "INFO:_6_run_inference_by_task:[Process 2648910][GPU 0] — Completed tokenisation of batch 4/13\n",
      "INFO:_6_run_inference_by_task:[Process 2648912][GPU 2] — Completed batch inference 3/13\n",
      "INFO:_6_run_inference_by_task:[Process 2648912][GPU 2] — Completed tokenisation of batch 4/13\n",
      "INFO:_6_run_inference_by_task:[Process 2648913][GPU 3] — Completed batch inference 4/13\n",
      "INFO:_6_run_inference_by_task:[Process 2648913][GPU 3] — Completed tokenisation of batch 5/13\n",
      "INFO:_6_run_inference_by_task:[Process 2648911][GPU 1] — Completed batch inference 4/13\n",
      "INFO:_6_run_inference_by_task:[Process 2648911][GPU 1] — Completed tokenisation of batch 5/13\n",
      "INFO:_6_run_inference_by_task:[Process 2648910][GPU 0] — Completed batch inference 4/13\n",
      "INFO:_6_run_inference_by_task:[Process 2648910][GPU 0] — Completed tokenisation of batch 5/13\n",
      "INFO:_6_run_inference_by_task:[Process 2648912][GPU 2] — Completed batch inference 4/13\n",
      "INFO:_6_run_inference_by_task:[Process 2648912][GPU 2] — Completed tokenisation of batch 5/13\n",
      "INFO:_6_run_inference_by_task:[Process 2648913][GPU 3] — Completed batch inference 5/13\n",
      "INFO:_6_run_inference_by_task:[Process 2648913][GPU 3] — Completed tokenisation of batch 6/13\n",
      "INFO:_6_run_inference_by_task:[Process 2648911][GPU 1] — Completed batch inference 5/13\n",
      "INFO:_6_run_inference_by_task:[Process 2648911][GPU 1] — Completed tokenisation of batch 6/13\n",
      "INFO:_6_run_inference_by_task:[Process 2648910][GPU 0] — Completed batch inference 5/13\n",
      "INFO:_6_run_inference_by_task:[Process 2648910][GPU 0] — Completed tokenisation of batch 6/13\n",
      "INFO:_6_run_inference_by_task:[Process 2648912][GPU 2] — Completed batch inference 5/13\n",
      "INFO:_6_run_inference_by_task:[Process 2648912][GPU 2] — Completed tokenisation of batch 6/13\n",
      "INFO:_6_run_inference_by_task:[Process 2648913][GPU 3] — Completed batch inference 6/13\n",
      "INFO:_6_run_inference_by_task:[Process 2648913][GPU 3] — Completed tokenisation of batch 7/13\n",
      "INFO:_6_run_inference_by_task:[Process 2648911][GPU 1] — Completed batch inference 6/13\n",
      "INFO:_6_run_inference_by_task:[Process 2648911][GPU 1] — Completed tokenisation of batch 7/13\n",
      "INFO:_6_run_inference_by_task:[Process 2648910][GPU 0] — Completed batch inference 6/13\n",
      "INFO:_6_run_inference_by_task:[Process 2648910][GPU 0] — Completed tokenisation of batch 7/13\n",
      "INFO:_6_run_inference_by_task:[Process 2648912][GPU 2] — Completed batch inference 6/13\n",
      "INFO:_6_run_inference_by_task:[Process 2648912][GPU 2] — Completed tokenisation of batch 7/13\n",
      "INFO:_6_run_inference_by_task:[Process 2648913][GPU 3] — Completed batch inference 7/13\n",
      "INFO:_6_run_inference_by_task:[Process 2648913][GPU 3] — Completed tokenisation of batch 8/13\n",
      "INFO:_6_run_inference_by_task:[Process 2648911][GPU 1] — Completed batch inference 7/13\n",
      "INFO:_6_run_inference_by_task:[Process 2648911][GPU 1] — Completed tokenisation of batch 8/13\n",
      "INFO:_6_run_inference_by_task:[Process 2648910][GPU 0] — Completed batch inference 7/13\n",
      "INFO:_6_run_inference_by_task:[Process 2648910][GPU 0] — Completed tokenisation of batch 8/13\n",
      "INFO:_6_run_inference_by_task:[Process 2648912][GPU 2] — Completed batch inference 7/13\n",
      "INFO:_6_run_inference_by_task:[Process 2648912][GPU 2] — Completed tokenisation of batch 8/13\n",
      "INFO:_6_run_inference_by_task:[Process 2648913][GPU 3] — Completed batch inference 8/13\n",
      "INFO:_6_run_inference_by_task:[Process 2648913][GPU 3] — Completed tokenisation of batch 9/13\n",
      "INFO:_6_run_inference_by_task:[Process 2648911][GPU 1] — Completed batch inference 8/13\n",
      "INFO:_6_run_inference_by_task:[Process 2648911][GPU 1] — Completed tokenisation of batch 9/13\n",
      "INFO:_6_run_inference_by_task:[Process 2648910][GPU 0] — Completed batch inference 8/13\n",
      "INFO:_6_run_inference_by_task:[Process 2648910][GPU 0] — Completed tokenisation of batch 9/13\n",
      "INFO:_6_run_inference_by_task:[Process 2648912][GPU 2] — Completed batch inference 8/13\n",
      "INFO:_6_run_inference_by_task:[Process 2648912][GPU 2] — Completed tokenisation of batch 9/13\n",
      "INFO:_6_run_inference_by_task:[Process 2648913][GPU 3] — Completed batch inference 9/13\n",
      "INFO:_6_run_inference_by_task:[Process 2648913][GPU 3] — Completed tokenisation of batch 10/13\n",
      "INFO:_6_run_inference_by_task:[Process 2648911][GPU 1] — Completed batch inference 9/13\n",
      "INFO:_6_run_inference_by_task:[Process 2648911][GPU 1] — Completed tokenisation of batch 10/13\n",
      "INFO:_6_run_inference_by_task:[Process 2648910][GPU 0] — Completed batch inference 9/13\n",
      "INFO:_6_run_inference_by_task:[Process 2648910][GPU 0] — Completed tokenisation of batch 10/13\n",
      "INFO:_6_run_inference_by_task:[Process 2648912][GPU 2] — Completed batch inference 9/13\n",
      "INFO:_6_run_inference_by_task:[Process 2648912][GPU 2] — Completed tokenisation of batch 10/13\n",
      "INFO:_6_run_inference_by_task:[Process 2648913][GPU 3] — Completed batch inference 10/13\n",
      "INFO:_6_run_inference_by_task:[Process 2648913][GPU 3] — Completed tokenisation of batch 11/13\n",
      "INFO:_6_run_inference_by_task:[Process 2648911][GPU 1] — Completed batch inference 10/13\n",
      "INFO:_6_run_inference_by_task:[Process 2648911][GPU 1] — Completed tokenisation of batch 11/13\n",
      "INFO:_6_run_inference_by_task:[Process 2648910][GPU 0] — Completed batch inference 10/13\n",
      "INFO:_6_run_inference_by_task:[Process 2648910][GPU 0] — Completed tokenisation of batch 11/13\n",
      "INFO:_6_run_inference_by_task:[Process 2648912][GPU 2] — Completed batch inference 10/13\n",
      "INFO:_6_run_inference_by_task:[Process 2648912][GPU 2] — Completed tokenisation of batch 11/13\n",
      "INFO:_6_run_inference_by_task:[Process 2648913][GPU 3] — Completed batch inference 11/13\n",
      "INFO:_6_run_inference_by_task:[Process 2648913][GPU 3] — Completed tokenisation of batch 12/13\n",
      "INFO:_6_run_inference_by_task:[Process 2648911][GPU 1] — Completed batch inference 11/13\n",
      "INFO:_6_run_inference_by_task:[Process 2648911][GPU 1] — Completed tokenisation of batch 12/13\n",
      "INFO:_6_run_inference_by_task:[Process 2648910][GPU 0] — Completed batch inference 11/13\n",
      "INFO:_6_run_inference_by_task:[Process 2648910][GPU 0] — Completed tokenisation of batch 12/13\n",
      "INFO:_6_run_inference_by_task:[Process 2648912][GPU 2] — Completed batch inference 11/13\n",
      "INFO:_6_run_inference_by_task:[Process 2648912][GPU 2] — Completed tokenisation of batch 12/13\n",
      "INFO:_6_run_inference_by_task:[Process 2648913][GPU 3] — Completed batch inference 12/13\n",
      "INFO:_6_run_inference_by_task:[Process 2648913][GPU 3] — Completed tokenisation of batch 13/13\n",
      "INFO:_6_run_inference_by_task:[Process 2648911][GPU 1] — Completed batch inference 12/13\n",
      "INFO:_6_run_inference_by_task:[Process 2648911][GPU 1] — Completed tokenisation of batch 13/13\n",
      "INFO:_6_run_inference_by_task:[Process 2648910][GPU 0] — Completed batch inference 12/13\n",
      "INFO:_6_run_inference_by_task:[Process 2648910][GPU 0] — Completed tokenisation of batch 13/13\n",
      "INFO:_6_run_inference_by_task:[Process 2648912][GPU 2] — Completed batch inference 12/13\n",
      "INFO:_6_run_inference_by_task:[Process 2648912][GPU 2] — Completed tokenisation of batch 13/13\n",
      "INFO:_6_run_inference_by_task:[Process 2648913][GPU 3] — Completed batch inference 13/13\n",
      "INFO:classes.experiment_runner:[Process 2648913][GPU 3]: Inference complete\n"
     ]
    }
   ],
   "source": [
    "experiment_config = ExperimentConfig(\n",
    "    model_name=\"TinyLlama/TinyLlama-1.1B-Chat-v1.0\",\n",
    "    is_encoder_decoder=True,\n",
    "    task_type=\"text_generation\",\n",
    "    inference_type=\"pure_generative\",  \n",
    "    max_input_tokens=128,\n",
    "    max_output_tokens=128,\n",
    "    num_input_prompts=50,\n",
    "    save_outputs=False,\n",
    "    decode_token_to_text=True,\n",
    "    gpu_list=[0,1,2,3],\n",
    "    num_processes=4,\n",
    "    batching_options={\n",
    "        \"fixed_max_batch_size\": 8, # this is max batch size if adaptive batching on; fixed batch size if it's off\n",
    "        \"adaptive_batching\": False,\n",
    "        \"adaptive_max_tokens\": 512  \n",
    "    },\n",
    "    sharding_config={\n",
    "        \"fsdp_config\": {\n",
    "            \"use_orig_params\": True,\n",
    "            \"cpu_offload\": True\n",
    "        },\n",
    "        \"sharding_strategy\": \"NO_SHARD\"\n",
    "    },\n",
    "    query_rate=1,\n",
    "    decoder_temperature=1.0, # NB: needs to be a float\n",
    "    fp_precision=\"float16\",\n",
    "    backend=\"pytorch\"\n",
    ")\n",
    "\n",
    "# Load prompts (here, using the 'arxiv' split from the lighteval/pile_helm dataset)\n",
    "ds = load_dataset(\"lighteval/pile_helm\", \"arxiv\")[\"test\"]\n",
    "prompts = [sample[\"text\"] for sample in ds]\n",
    "\n",
    "# function to run the whole experiment workflow.\n",
    "def run_experiment_workflow():\n",
    "    # run experiment\n",
    "    runner = ExperimentRunner(experiment_config, prompts)\n",
    "    runner.run_torch()\n",
    "    \n",
    "    # If not main process, exit cleanly after run\n",
    "    if not runner.accelerator.is_main_process:\n",
    "        return  # do NOT proceed further\n",
    "\n",
    "    # Only main process continues\n",
    "    if runner.accelerator.is_main_process:\n",
    "         # aggregate results\n",
    "        runner.aggregate_results()\n",
    "        # save results\n",
    "        runner.save_experiment_results()  \n",
    "        \n",
    "    # could add in script here to delete JSON files if storage an issue\n",
    "    \n",
    "    runner.teardown()\n",
    "\n",
    "    return\n",
    "\n",
    "# Launch the experiment across the specified number of processes.\n",
    "notebook_launcher(run_experiment_workflow,\n",
    "                    num_processes=experiment_config.num_processes) \n",
    "                    #terminate_on_error=True) # USE THIS IN accelerate.launch.launch()                 "
   ]
  }
 ],
 "metadata": {
  "kernelspec": {
   "display_name": "thesis",
   "language": "python",
   "name": "python3"
  },
  "language_info": {
   "codemirror_mode": {
    "name": "ipython",
    "version": 3
   },
   "file_extension": ".py",
   "mimetype": "text/x-python",
   "name": "python",
   "nbconvert_exporter": "python",
   "pygments_lexer": "ipython3",
   "version": "3.10.14"
  }
 },
 "nbformat": 4,
 "nbformat_minor": 2
}
